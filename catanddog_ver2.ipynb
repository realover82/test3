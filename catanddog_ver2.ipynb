{
 "cells": [
  {
   "cell_type": "markdown",
   "metadata": {
    "id": "FWa2fS9Hdiv6"
   },
   "source": [
    "# CNN과 Transfer Learning으로 cats vs dogs 문제를 풀어봅시다"
   ]
  },
  {
   "cell_type": "code",
   "execution_count": 1,
   "metadata": {
    "executionInfo": {
     "elapsed": 2060,
     "status": "ok",
     "timestamp": 1623915041374,
     "user": {
      "displayName": "장동인",
      "photoUrl": "https://lh3.googleusercontent.com/a-/AOh14GjtH-nzWoP-jq2RH7c0eYfqUajpfyEbvc89te9pzGE=s64",
      "userId": "02670735376060801913"
     },
     "user_tz": -540
    },
    "id": "C2g-F_9Ndiv6"
   },
   "outputs": [],
   "source": [
    "import tensorflow_datasets as tfds\n",
    "import tensorflow as tf\n",
    "from tensorflow.keras.layers import Dense, Conv2D, MaxPooling2D, Flatten, Dropout\n",
    "from tensorflow.keras.models import Sequential\n",
    "from tensorflow.keras.callbacks import ModelCheckpoint, EarlyStopping\n",
    "from tensorflow.keras.applications import VGG16\n",
    "\n",
    "from IPython.display import Image\n",
    "import numpy as np\n",
    "import matplotlib.pyplot as plt\n",
    "\n",
    "%matplotlib inline"
   ]
  },
  {
   "cell_type": "code",
   "execution_count": 25,
   "metadata": {},
   "outputs": [],
   "source": [
    "# coding=utf-8\n",
    "# Copyright 2022 The TensorFlow Datasets Authors.\n",
    "#\n",
    "# Licensed under the Apache License, Version 2.0 (the \"License\");\n",
    "# you may not use this file except in compliance with the License.\n",
    "# You may obtain a copy of the License at\n",
    "#\n",
    "#     http://www.apache.org/licenses/LICENSE-2.0\n",
    "#\n",
    "# Unless required by applicable law or agreed to in writing, software\n",
    "# distributed under the License is distributed on an \"AS IS\" BASIS,\n",
    "# WITHOUT WARRANTIES OR CONDITIONS OF ANY KIND, either express or implied.\n",
    "# See the License for the specific language governing permissions and\n",
    "# limitations under the License.\n",
    "\n",
    "\"\"\"Cats vs Dogs dataset.\"\"\"\n",
    "\n",
    "import re\n",
    "\n",
    "from absl import logging\n",
    "import tensorflow as tf\n",
    "import tensorflow_datasets.public_api as tfds\n",
    "\n",
    "_CITATION = \"\"\"\\\n",
    "@Inproceedings (Conference){asirra-a-captcha-that-exploits-interest-aligned-manual-image-categorization,\n",
    "author = {Elson, Jeremy and Douceur, John (JD) and Howell, Jon and Saul, Jared},\n",
    "title = {Asirra: A CAPTCHA that Exploits Interest-Aligned Manual Image Categorization},\n",
    "booktitle = {Proceedings of 14th ACM Conference on Computer and Communications Security (CCS)},\n",
    "year = {2007},\n",
    "month = {October},\n",
    "publisher = {Association for Computing Machinery, Inc.},\n",
    "url = {https://www.microsoft.com/en-us/research/publication/asirra-a-captcha-that-exploits-interest-aligned-manual-image-categorization/},\n",
    "edition = {Proceedings of 14th ACM Conference on Computer and Communications Security (CCS)},\n",
    "}\n",
    "\"\"\"\n",
    "\n",
    "_URL = (\"https://download.microsoft.com/download/3/E/1/3E1C3F21-\"\n",
    "        \"ECDB-4869-8368-6DEBA77B919F/kagglecatsanddogs_5340.zip\") \n",
    "#https://download.microsoft.com/download/3/E/1/3E1C3F21-ECDB-4869-8368-6DEBA77B919F/kagglecatsanddogs_5340.zip\n",
    "_NUM_CORRUPT_IMAGES = 1738\n",
    "_DESCRIPTION = ((\"A large set of images of cats and dogs. \"\n",
    "                 \"There are %d corrupted images that are dropped.\") %\n",
    "                _NUM_CORRUPT_IMAGES)\n",
    "\n",
    "_NAME_RE = re.compile(r\"^PetImages[\\\\/](Cat|Dog)[\\\\/]\\d+\\.jpg$\")\n",
    "\n",
    "\n",
    "class CatsVsDogs(tfds.core.GeneratorBasedBuilder):\n",
    "  \"\"\"Cats vs Dogs.\"\"\"\n",
    "\n",
    "  VERSION = tfds.core.Version(\"4.0.0\")\n",
    "  RELEASE_NOTES = {\n",
    "      \"4.0.0\": \"New split API (https://tensorflow.org/datasets/splits)\",\n",
    "  }\n",
    "\n",
    "  def _info(self):\n",
    "    return tfds.core.DatasetInfo(\n",
    "        builder=self,\n",
    "        description=_DESCRIPTION,\n",
    "        features=tfds.features.FeaturesDict({\n",
    "            \"image\": tfds.features.Image(),\n",
    "            \"image/filename\": tfds.features.Text(),  # eg 'PetImages/Dog/0.jpg'\n",
    "            \"label\": tfds.features.ClassLabel(names=[\"cat\", \"dog\"]),\n",
    "        }),\n",
    "        supervised_keys=(\"image\", \"label\"),\n",
    "        homepage=\"https://www.microsoft.com/en-us/download/details.aspx?id=54765\",\n",
    "        citation=_CITATION,\n",
    "    )\n",
    "\n",
    "  def _split_generators(self, dl_manager):\n",
    "    path = dl_manager.download(_URL)\n",
    "\n",
    "    # There is no predefined train/val/test split for this dataset.\n",
    "    return [\n",
    "        tfds.core.SplitGenerator(\n",
    "            name=tfds.Split.TRAIN,\n",
    "            gen_kwargs={\n",
    "                \"archive\": dl_manager.iter_archive(path),\n",
    "            }),\n",
    "    ]\n",
    "\n",
    "  def _generate_examples(self, archive):\n",
    "    \"\"\"Generate Cats vs Dogs images and labels given a directory path.\"\"\"\n",
    "    num_skipped = 0\n",
    "    for fname, fobj in archive:\n",
    "      res = _NAME_RE.match(fname)\n",
    "      if not res:  # README file, ...\n",
    "        continue\n",
    "      label = res.group(1).lower()\n",
    "      if tf.compat.as_bytes(\"JFIF\") not in fobj.peek(10):\n",
    "        num_skipped += 1\n",
    "        continue\n",
    "      record = {\n",
    "          \"image\": fobj,\n",
    "          \"image/filename\": fname,\n",
    "          \"label\": label,\n",
    "      }\n",
    "      yield fname, record\n",
    "\n",
    "    if num_skipped != _NUM_CORRUPT_IMAGES:\n",
    "      raise ValueError(\"Expected %d corrupt images, but found %d\" %\n",
    "                       (_NUM_CORRUPT_IMAGES, num_skipped))\n",
    "    logging.warning(\"%d images were corrupted and were skipped\", num_skipped)"
   ]
  },
  {
   "cell_type": "markdown",
   "metadata": {
    "id": "olTacfvtKfmf"
   },
   "source": [
    "# 1. 데이터셋 준비\n",
    "### train data 80% test data 20%\n",
    "### `BATCH_SIZE`와 `EPOCHS`(시간상 5) 를 정의합니다. 나중에 따로 EPOCHS = 20으로 하고 돌려보시길 바랍니다."
   ]
  },
  {
   "cell_type": "code",
   "execution_count": 26,
   "metadata": {
    "colab": {
     "base_uri": "https://localhost:8080/",
     "height": 273,
     "referenced_widgets": [
      "2fabc938f0e54a4db2f1bd8c13ff58cd",
      "aab9b858d1e041458707491988ab83da",
      "21e9c4cd6bb543e3a32849b4f2742f95",
      "86ef4d001aad4e3791cade98b038742d",
      "b1c329249fbe4d8081181ead712e039c",
      "fca9fa1a1c764e08be76852760fc866c",
      "8ddf97be3fab4a09812d9f4ffcf9eff8",
      "6fbcebb6733244119f1c4eb74bb222c7",
      "560b841b85974c0383dfc316167b5cae",
      "e80bdd2e69684db1b6c4ce0fcf55a861",
      "c03997c18ab1476d8614c926ebb00f33",
      "59608d95928442529295dbb42b276556",
      "c8639c96e2c748ad9110b721a0a020bf",
      "07afc56393684da09f9b304396a5003c",
      "f76b3770b5324340a23db3b540006009",
      "ed81f0415e754770bdef4e87068f1c0b",
      "64188fa21d6442dd9ebd36db1ae5348e",
      "b715d457c2004bffb66aa85ecb81c4d4",
      "9298ba89798845cd9300cda11373493d",
      "53381eca8c0c42b3a8580ef96f91bf49",
      "6fb490bb5a254d078ba22043a9d7ae71",
      "249cb20fc9d94c4ab6ad3f63665836f3",
      "8c6ea4d2d7674d3dbfda15e1b82c2c02",
      "561b0810aa6d474f9366d604fa8199a1",
      "5bd22048b1da45c2b9e78314b7d8553b",
      "5d814427396d42bca526e1aebc114262",
      "c247b6d544be480d80568384c2150356",
      "145a1513e9e74d309dd70e27a60937a7",
      "34431a092f2f404e9e6efe21e5d9f2d6",
      "a7e22a7410f448719cc6bbb039400d90",
      "36c788b3867543e38f73e517b27ce9c6",
      "557bb4513f9941ecaa5b7a3ed760711a"
     ]
    },
    "executionInfo": {
     "elapsed": 33086,
     "status": "ok",
     "timestamp": 1623915074457,
     "user": {
      "displayName": "장동인",
      "photoUrl": "https://lh3.googleusercontent.com/a-/AOh14GjtH-nzWoP-jq2RH7c0eYfqUajpfyEbvc89te9pzGE=s64",
      "userId": "02670735376060801913"
     },
     "user_tz": -540
    },
    "id": "sjfMm3kndiwA",
    "outputId": "2c521539-4363-4032-e79f-cce4033bfef4"
   },
   "outputs": [
    {
     "name": "stdout",
     "output_type": "stream",
     "text": [
      "\u001b[1mDownloading and preparing dataset Unknown size (download: Unknown size, generated: Unknown size, total: Unknown size) to ~\\tensorflow_datasets\\cats_vs_dogs\\4.0.0...\u001b[0m\n"
     ]
    },
    {
     "data": {
      "application/vnd.jupyter.widget-view+json": {
       "model_id": "230575a09e984a099da21b3782aa39fa",
       "version_major": 2,
       "version_minor": 0
      },
      "text/plain": [
       "Dl Completed...: 0 url [00:00, ? url/s]"
      ]
     },
     "metadata": {},
     "output_type": "display_data"
    },
    {
     "data": {
      "application/vnd.jupyter.widget-view+json": {
       "model_id": "6289a17215634c1d91582fec7bf10d7d",
       "version_major": 2,
       "version_minor": 0
      },
      "text/plain": [
       "Dl Size...: 0 MiB [00:00, ? MiB/s]"
      ]
     },
     "metadata": {},
     "output_type": "display_data"
    },
    {
     "data": {
      "application/vnd.jupyter.widget-view+json": {
       "model_id": "",
       "version_major": 2,
       "version_minor": 0
      },
      "text/plain": [
       "Generating splits...:   0%|          | 0/1 [00:00<?, ? splits/s]"
      ]
     },
     "metadata": {},
     "output_type": "display_data"
    },
    {
     "data": {
      "application/vnd.jupyter.widget-view+json": {
       "model_id": "",
       "version_major": 2,
       "version_minor": 0
      },
      "text/plain": [
       "Generating train examples...: 0 examples [00:00, ? examples/s]"
      ]
     },
     "metadata": {},
     "output_type": "display_data"
    },
    {
     "name": "stderr",
     "output_type": "stream",
     "text": [
      "WARNING:absl:1738 images were corrupted and were skipped\n"
     ]
    },
    {
     "data": {
      "application/vnd.jupyter.widget-view+json": {
       "model_id": "",
       "version_major": 2,
       "version_minor": 0
      },
      "text/plain": [
       "Shuffling ~\\tensorflow_datasets\\cats_vs_dogs\\4.0.0.incompleteOXRHJH\\cats_vs_dogs-train.tfrecord*...:   0%|    …"
      ]
     },
     "metadata": {},
     "output_type": "display_data"
    },
    {
     "name": "stdout",
     "output_type": "stream",
     "text": [
      "\u001b[1mDataset cats_vs_dogs downloaded and prepared to ~\\tensorflow_datasets\\cats_vs_dogs\\4.0.0. Subsequent calls will reuse this data.\u001b[0m\n"
     ]
    }
   ],
   "source": [
    "BATCH_SIZE = 64\n",
    "EPOCHS = 50   #open(\"u.item\", encoding=\"utf-8\")\n",
    "dataset_name = 'cats_vs_dogs'\n",
    "(train_dataset, validation_dataset), info = tfds.load(name=dataset_name, split=('train[:80%]', 'train[-20%:]'), with_info=True)\n",
    "# open(\"u.item\", encoding=\"utf-8\")"
   ]
  },
  {
   "cell_type": "markdown",
   "metadata": {
    "id": "nKg29JlenGXX"
   },
   "source": [
    "# 2. 데이터 프리프로세싱"
   ]
  },
  {
   "cell_type": "markdown",
   "metadata": {
    "id": "fAuq37AvdiwF"
   },
   "source": [
    "### 이미지에 대한 Normalization 합니다.\n",
    "### 이미지는 0 ~ 255 까지 integer. tf.cast는 float로 바꾸고 255로 나누면 0~1까지 소수로 변경됨.  \n",
    "### 이미지는 모두 같은 size로 만들어야 tensorflow에 입력이 가능함"
   ]
  },
  {
   "cell_type": "code",
   "execution_count": 27,
   "metadata": {
    "executionInfo": {
     "elapsed": 32,
     "status": "ok",
     "timestamp": 1623915074459,
     "user": {
      "displayName": "장동인",
      "photoUrl": "https://lh3.googleusercontent.com/a-/AOh14GjtH-nzWoP-jq2RH7c0eYfqUajpfyEbvc89te9pzGE=s64",
      "userId": "02670735376060801913"
     },
     "user_tz": -540
    },
    "id": "F49NcSakdiwF"
   },
   "outputs": [],
   "source": [
    "def normalize(images):\n",
    "    # 0~1 사이의 값으로 Normalize 합니다.\n",
    "    img, lbl = tf.cast(images['image'], tf.float32) / 255.0, images['label']\n",
    "    # 300 X 300 사이즈로 resize 합니다.\n",
    "    img = tf.image.resize(img, size=(300, 300))\n",
    "    return img, lbl"
   ]
  },
  {
   "cell_type": "markdown",
   "metadata": {
    "id": "YHz5U1ppdiwH"
   },
   "source": [
    "`normalize`를 수행합니다.\n",
    "\n",
    "`Training Set`와 `Validation Set`을 만들고 **BATCH_SIZE**에 따라 mini batch를 만듭니다."
   ]
  },
  {
   "cell_type": "code",
   "execution_count": 28,
   "metadata": {
    "executionInfo": {
     "elapsed": 465,
     "status": "ok",
     "timestamp": 1623915074905,
     "user": {
      "displayName": "장동인",
      "photoUrl": "https://lh3.googleusercontent.com/a-/AOh14GjtH-nzWoP-jq2RH7c0eYfqUajpfyEbvc89te9pzGE=s64",
      "userId": "02670735376060801913"
     },
     "user_tz": -540
    },
    "id": "vLKqGS0BdiwI"
   },
   "outputs": [],
   "source": [
    "train_data = train_dataset.map(normalize).batch(BATCH_SIZE).repeat().prefetch(1)\n",
    "valid_data = validation_dataset.map(normalize).batch(BATCH_SIZE).repeat().prefetch(1)"
   ]
  },
  {
   "cell_type": "markdown",
   "metadata": {
    "id": "WgkuETTwdiwK"
   },
   "source": [
    "`steps_per_epoch`과 `validation_steps`를 정의하여 train 합니다."
   ]
  },
  {
   "cell_type": "code",
   "execution_count": 29,
   "metadata": {
    "executionInfo": {
     "elapsed": 16,
     "status": "ok",
     "timestamp": 1623915074906,
     "user": {
      "displayName": "장동인",
      "photoUrl": "https://lh3.googleusercontent.com/a-/AOh14GjtH-nzWoP-jq2RH7c0eYfqUajpfyEbvc89te9pzGE=s64",
      "userId": "02670735376060801913"
     },
     "user_tz": -540
    },
    "id": "rga6lqMWdiwK"
   },
   "outputs": [],
   "source": [
    "#steps_per_epoch= int(len(list(train_data)) * 0.8) // BATCH_SIZE + 1\n",
    "#validation_steps= int(len(list(validation_data)) * 0.2) // BATCH_SIZE + 1\n",
    "steps_per_epoch=582\n",
    "validation_steps=146"
   ]
  },
  {
   "cell_type": "markdown",
   "metadata": {
    "id": "04cC6nZediwM"
   },
   "source": [
    "# 4. 모델 설계하기(CNN) "
   ]
  },
  {
   "cell_type": "code",
   "execution_count": 30,
   "metadata": {
    "executionInfo": {
     "elapsed": 16,
     "status": "ok",
     "timestamp": 1623915074909,
     "user": {
      "displayName": "장동인",
      "photoUrl": "https://lh3.googleusercontent.com/a-/AOh14GjtH-nzWoP-jq2RH7c0eYfqUajpfyEbvc89te9pzGE=s64",
      "userId": "02670735376060801913"
     },
     "user_tz": -540
    },
    "id": "25JJKTJKdiwM"
   },
   "outputs": [],
   "source": [
    "model_cnn = Sequential([\n",
    "    Conv2D(32, (3, 3), activation='relu', input_shape=(300, 300, 3), padding='same'),\n",
    "    MaxPooling2D(2, 2), \n",
    "    Conv2D(32, (3, 3), activation='relu', padding='same'),\n",
    "    MaxPooling2D(2, 2), \n",
    "    Conv2D(32, (3, 3), activation='relu', padding='same'),\n",
    "    MaxPooling2D(2, 2), \n",
    "    Conv2D(32, (3, 3), activation='relu', padding='same'),\n",
    "    MaxPooling2D(2, 2), \n",
    "    Conv2D(32, (3, 3), activation='relu', padding='same'),\n",
    "    MaxPooling2D(2, 2), \n",
    "    Flatten(), \n",
    "    Dense(64, activation='relu'), \n",
    "    Dropout(0.2),\n",
    "    Dense(32, activation='relu'), \n",
    "    Dense(1, activation='sigmoid')\n",
    "])\n",
    "model_cnn.compile(optimizer='adam', loss='binary_crossentropy', metrics=['accuracy'])"
   ]
  },
  {
   "cell_type": "code",
   "execution_count": 31,
   "metadata": {},
   "outputs": [
    {
     "name": "stdout",
     "output_type": "stream",
     "text": [
      "Model: \"sequential\"\n",
      "_________________________________________________________________\n",
      " Layer (type)                Output Shape              Param #   \n",
      "=================================================================\n",
      " conv2d (Conv2D)             (None, 300, 300, 32)      896       \n",
      "                                                                 \n",
      " max_pooling2d (MaxPooling2D  (None, 150, 150, 32)     0         \n",
      " )                                                               \n",
      "                                                                 \n",
      " conv2d_1 (Conv2D)           (None, 150, 150, 32)      9248      \n",
      "                                                                 \n",
      " max_pooling2d_1 (MaxPooling  (None, 75, 75, 32)       0         \n",
      " 2D)                                                             \n",
      "                                                                 \n",
      " conv2d_2 (Conv2D)           (None, 75, 75, 32)        9248      \n",
      "                                                                 \n",
      " max_pooling2d_2 (MaxPooling  (None, 37, 37, 32)       0         \n",
      " 2D)                                                             \n",
      "                                                                 \n",
      " conv2d_3 (Conv2D)           (None, 37, 37, 32)        9248      \n",
      "                                                                 \n",
      " max_pooling2d_3 (MaxPooling  (None, 18, 18, 32)       0         \n",
      " 2D)                                                             \n",
      "                                                                 \n",
      " conv2d_4 (Conv2D)           (None, 18, 18, 32)        9248      \n",
      "                                                                 \n",
      " max_pooling2d_4 (MaxPooling  (None, 9, 9, 32)         0         \n",
      " 2D)                                                             \n",
      "                                                                 \n",
      " flatten (Flatten)           (None, 2592)              0         \n",
      "                                                                 \n",
      " dense (Dense)               (None, 64)                165952    \n",
      "                                                                 \n",
      " dropout (Dropout)           (None, 64)                0         \n",
      "                                                                 \n",
      " dense_1 (Dense)             (None, 32)                2080      \n",
      "                                                                 \n",
      " dense_2 (Dense)             (None, 1)                 33        \n",
      "                                                                 \n",
      "=================================================================\n",
      "Total params: 205,953\n",
      "Trainable params: 205,953\n",
      "Non-trainable params: 0\n",
      "_________________________________________________________________\n"
     ]
    }
   ],
   "source": [
    "model_cnn.summary()"
   ]
  },
  {
   "cell_type": "markdown",
   "metadata": {
    "id": "Y5tUQpEspbSH"
   },
   "source": [
    "# 6. 모델 모니터링하기"
   ]
  },
  {
   "cell_type": "code",
   "execution_count": 32,
   "metadata": {
    "executionInfo": {
     "elapsed": 16,
     "status": "ok",
     "timestamp": 1623915074910,
     "user": {
      "displayName": "장동인",
      "photoUrl": "https://lh3.googleusercontent.com/a-/AOh14GjtH-nzWoP-jq2RH7c0eYfqUajpfyEbvc89te9pzGE=s64",
      "userId": "02670735376060801913"
     },
     "user_tz": -540
    },
    "id": "Ch_n3j3fpjV2"
   },
   "outputs": [],
   "source": [
    "early_stopping = EarlyStopping(monitor='val_loss', patience=10)\n",
    "\n",
    "checkpoint_path = 'checkpoint.ckpt'\n",
    "checkpoint = ModelCheckpoint(checkpoint_path, \n",
    "        save_best_only=True, \n",
    "        save_weights_only=True, \n",
    "        monitor='val_loss', \n",
    "        verbose=1)"
   ]
  },
  {
   "cell_type": "markdown",
   "metadata": {
    "id": "z-RZecsMpQcj"
   },
   "source": [
    "# 5. 모델 학습하기"
   ]
  },
  {
   "cell_type": "code",
   "execution_count": 33,
   "metadata": {
    "colab": {
     "base_uri": "https://localhost:8080/"
    },
    "executionInfo": {
     "elapsed": 1265019,
     "status": "ok",
     "timestamp": 1623916339915,
     "user": {
      "displayName": "장동인",
      "photoUrl": "https://lh3.googleusercontent.com/a-/AOh14GjtH-nzWoP-jq2RH7c0eYfqUajpfyEbvc89te9pzGE=s64",
      "userId": "02670735376060801913"
     },
     "user_tz": -540
    },
    "id": "IMTIt3AfdiwQ",
    "outputId": "4610768f-552a-4ba9-b7ce-3d0ac50f1719"
   },
   "outputs": [
    {
     "name": "stdout",
     "output_type": "stream",
     "text": [
      "Epoch 1/50\n",
      "582/582 [==============================] - ETA: 0s - loss: 0.6135 - accuracy: 0.6496\n",
      "Epoch 1: val_loss improved from inf to 0.51876, saving model to checkpoint.ckpt\n",
      "582/582 [==============================] - 2358s 4s/step - loss: 0.6135 - accuracy: 0.6496 - val_loss: 0.5188 - val_accuracy: 0.7393\n",
      "Epoch 2/50\n",
      " 22/582 [>.............................] - ETA: 32:55 - loss: 0.5305 - accuracy: 0.7415"
     ]
    },
    {
     "ename": "KeyboardInterrupt",
     "evalue": "",
     "output_type": "error",
     "traceback": [
      "\u001b[1;31m---------------------------------------------------------------------------\u001b[0m",
      "\u001b[1;31mKeyboardInterrupt\u001b[0m                         Traceback (most recent call last)",
      "\u001b[1;32m~\\AppData\\Local\\Temp/ipykernel_47468/311768318.py\u001b[0m in \u001b[0;36m<cell line: 1>\u001b[1;34m()\u001b[0m\n\u001b[1;32m----> 1\u001b[1;33m cnn_history = model_cnn.fit(train_data, \n\u001b[0m\u001b[0;32m      2\u001b[0m                             \u001b[0mvalidation_data\u001b[0m\u001b[1;33m=\u001b[0m\u001b[1;33m(\u001b[0m\u001b[0mvalid_data\u001b[0m\u001b[1;33m)\u001b[0m\u001b[1;33m,\u001b[0m\u001b[1;33m\u001b[0m\u001b[1;33m\u001b[0m\u001b[0m\n\u001b[0;32m      3\u001b[0m                             \u001b[0msteps_per_epoch\u001b[0m\u001b[1;33m=\u001b[0m\u001b[0msteps_per_epoch\u001b[0m\u001b[1;33m,\u001b[0m\u001b[1;33m\u001b[0m\u001b[1;33m\u001b[0m\u001b[0m\n\u001b[0;32m      4\u001b[0m                             \u001b[0mvalidation_steps\u001b[0m\u001b[1;33m=\u001b[0m\u001b[0mvalidation_steps\u001b[0m\u001b[1;33m,\u001b[0m\u001b[1;33m\u001b[0m\u001b[1;33m\u001b[0m\u001b[0m\n\u001b[0;32m      5\u001b[0m                             \u001b[0mepochs\u001b[0m\u001b[1;33m=\u001b[0m\u001b[0mEPOCHS\u001b[0m\u001b[1;33m,\u001b[0m\u001b[1;33m\u001b[0m\u001b[1;33m\u001b[0m\u001b[0m\n",
      "\u001b[1;32m~\\anaconda3\\lib\\site-packages\\keras\\utils\\traceback_utils.py\u001b[0m in \u001b[0;36merror_handler\u001b[1;34m(*args, **kwargs)\u001b[0m\n\u001b[0;32m     62\u001b[0m     \u001b[0mfiltered_tb\u001b[0m \u001b[1;33m=\u001b[0m \u001b[1;32mNone\u001b[0m\u001b[1;33m\u001b[0m\u001b[1;33m\u001b[0m\u001b[0m\n\u001b[0;32m     63\u001b[0m     \u001b[1;32mtry\u001b[0m\u001b[1;33m:\u001b[0m\u001b[1;33m\u001b[0m\u001b[1;33m\u001b[0m\u001b[0m\n\u001b[1;32m---> 64\u001b[1;33m       \u001b[1;32mreturn\u001b[0m \u001b[0mfn\u001b[0m\u001b[1;33m(\u001b[0m\u001b[1;33m*\u001b[0m\u001b[0margs\u001b[0m\u001b[1;33m,\u001b[0m \u001b[1;33m**\u001b[0m\u001b[0mkwargs\u001b[0m\u001b[1;33m)\u001b[0m\u001b[1;33m\u001b[0m\u001b[1;33m\u001b[0m\u001b[0m\n\u001b[0m\u001b[0;32m     65\u001b[0m     \u001b[1;32mexcept\u001b[0m \u001b[0mException\u001b[0m \u001b[1;32mas\u001b[0m \u001b[0me\u001b[0m\u001b[1;33m:\u001b[0m  \u001b[1;31m# pylint: disable=broad-except\u001b[0m\u001b[1;33m\u001b[0m\u001b[1;33m\u001b[0m\u001b[0m\n\u001b[0;32m     66\u001b[0m       \u001b[0mfiltered_tb\u001b[0m \u001b[1;33m=\u001b[0m \u001b[0m_process_traceback_frames\u001b[0m\u001b[1;33m(\u001b[0m\u001b[0me\u001b[0m\u001b[1;33m.\u001b[0m\u001b[0m__traceback__\u001b[0m\u001b[1;33m)\u001b[0m\u001b[1;33m\u001b[0m\u001b[1;33m\u001b[0m\u001b[0m\n",
      "\u001b[1;32m~\\anaconda3\\lib\\site-packages\\keras\\engine\\training.py\u001b[0m in \u001b[0;36mfit\u001b[1;34m(self, x, y, batch_size, epochs, verbose, callbacks, validation_split, validation_data, shuffle, class_weight, sample_weight, initial_epoch, steps_per_epoch, validation_steps, validation_batch_size, validation_freq, max_queue_size, workers, use_multiprocessing)\u001b[0m\n\u001b[0;32m   1382\u001b[0m                 _r=1):\n\u001b[0;32m   1383\u001b[0m               \u001b[0mcallbacks\u001b[0m\u001b[1;33m.\u001b[0m\u001b[0mon_train_batch_begin\u001b[0m\u001b[1;33m(\u001b[0m\u001b[0mstep\u001b[0m\u001b[1;33m)\u001b[0m\u001b[1;33m\u001b[0m\u001b[1;33m\u001b[0m\u001b[0m\n\u001b[1;32m-> 1384\u001b[1;33m               \u001b[0mtmp_logs\u001b[0m \u001b[1;33m=\u001b[0m \u001b[0mself\u001b[0m\u001b[1;33m.\u001b[0m\u001b[0mtrain_function\u001b[0m\u001b[1;33m(\u001b[0m\u001b[0miterator\u001b[0m\u001b[1;33m)\u001b[0m\u001b[1;33m\u001b[0m\u001b[1;33m\u001b[0m\u001b[0m\n\u001b[0m\u001b[0;32m   1385\u001b[0m               \u001b[1;32mif\u001b[0m \u001b[0mdata_handler\u001b[0m\u001b[1;33m.\u001b[0m\u001b[0mshould_sync\u001b[0m\u001b[1;33m:\u001b[0m\u001b[1;33m\u001b[0m\u001b[1;33m\u001b[0m\u001b[0m\n\u001b[0;32m   1386\u001b[0m                 \u001b[0mcontext\u001b[0m\u001b[1;33m.\u001b[0m\u001b[0masync_wait\u001b[0m\u001b[1;33m(\u001b[0m\u001b[1;33m)\u001b[0m\u001b[1;33m\u001b[0m\u001b[1;33m\u001b[0m\u001b[0m\n",
      "\u001b[1;32m~\\anaconda3\\lib\\site-packages\\tensorflow\\python\\util\\traceback_utils.py\u001b[0m in \u001b[0;36merror_handler\u001b[1;34m(*args, **kwargs)\u001b[0m\n\u001b[0;32m    148\u001b[0m     \u001b[0mfiltered_tb\u001b[0m \u001b[1;33m=\u001b[0m \u001b[1;32mNone\u001b[0m\u001b[1;33m\u001b[0m\u001b[1;33m\u001b[0m\u001b[0m\n\u001b[0;32m    149\u001b[0m     \u001b[1;32mtry\u001b[0m\u001b[1;33m:\u001b[0m\u001b[1;33m\u001b[0m\u001b[1;33m\u001b[0m\u001b[0m\n\u001b[1;32m--> 150\u001b[1;33m       \u001b[1;32mreturn\u001b[0m \u001b[0mfn\u001b[0m\u001b[1;33m(\u001b[0m\u001b[1;33m*\u001b[0m\u001b[0margs\u001b[0m\u001b[1;33m,\u001b[0m \u001b[1;33m**\u001b[0m\u001b[0mkwargs\u001b[0m\u001b[1;33m)\u001b[0m\u001b[1;33m\u001b[0m\u001b[1;33m\u001b[0m\u001b[0m\n\u001b[0m\u001b[0;32m    151\u001b[0m     \u001b[1;32mexcept\u001b[0m \u001b[0mException\u001b[0m \u001b[1;32mas\u001b[0m \u001b[0me\u001b[0m\u001b[1;33m:\u001b[0m\u001b[1;33m\u001b[0m\u001b[1;33m\u001b[0m\u001b[0m\n\u001b[0;32m    152\u001b[0m       \u001b[0mfiltered_tb\u001b[0m \u001b[1;33m=\u001b[0m \u001b[0m_process_traceback_frames\u001b[0m\u001b[1;33m(\u001b[0m\u001b[0me\u001b[0m\u001b[1;33m.\u001b[0m\u001b[0m__traceback__\u001b[0m\u001b[1;33m)\u001b[0m\u001b[1;33m\u001b[0m\u001b[1;33m\u001b[0m\u001b[0m\n",
      "\u001b[1;32m~\\anaconda3\\lib\\site-packages\\tensorflow\\python\\eager\\def_function.py\u001b[0m in \u001b[0;36m__call__\u001b[1;34m(self, *args, **kwds)\u001b[0m\n\u001b[0;32m    913\u001b[0m \u001b[1;33m\u001b[0m\u001b[0m\n\u001b[0;32m    914\u001b[0m       \u001b[1;32mwith\u001b[0m \u001b[0mOptionalXlaContext\u001b[0m\u001b[1;33m(\u001b[0m\u001b[0mself\u001b[0m\u001b[1;33m.\u001b[0m\u001b[0m_jit_compile\u001b[0m\u001b[1;33m)\u001b[0m\u001b[1;33m:\u001b[0m\u001b[1;33m\u001b[0m\u001b[1;33m\u001b[0m\u001b[0m\n\u001b[1;32m--> 915\u001b[1;33m         \u001b[0mresult\u001b[0m \u001b[1;33m=\u001b[0m \u001b[0mself\u001b[0m\u001b[1;33m.\u001b[0m\u001b[0m_call\u001b[0m\u001b[1;33m(\u001b[0m\u001b[1;33m*\u001b[0m\u001b[0margs\u001b[0m\u001b[1;33m,\u001b[0m \u001b[1;33m**\u001b[0m\u001b[0mkwds\u001b[0m\u001b[1;33m)\u001b[0m\u001b[1;33m\u001b[0m\u001b[1;33m\u001b[0m\u001b[0m\n\u001b[0m\u001b[0;32m    916\u001b[0m \u001b[1;33m\u001b[0m\u001b[0m\n\u001b[0;32m    917\u001b[0m       \u001b[0mnew_tracing_count\u001b[0m \u001b[1;33m=\u001b[0m \u001b[0mself\u001b[0m\u001b[1;33m.\u001b[0m\u001b[0mexperimental_get_tracing_count\u001b[0m\u001b[1;33m(\u001b[0m\u001b[1;33m)\u001b[0m\u001b[1;33m\u001b[0m\u001b[1;33m\u001b[0m\u001b[0m\n",
      "\u001b[1;32m~\\anaconda3\\lib\\site-packages\\tensorflow\\python\\eager\\def_function.py\u001b[0m in \u001b[0;36m_call\u001b[1;34m(self, *args, **kwds)\u001b[0m\n\u001b[0;32m    945\u001b[0m       \u001b[1;31m# In this case we have created variables on the first call, so we run the\u001b[0m\u001b[1;33m\u001b[0m\u001b[1;33m\u001b[0m\u001b[0m\n\u001b[0;32m    946\u001b[0m       \u001b[1;31m# defunned version which is guaranteed to never create variables.\u001b[0m\u001b[1;33m\u001b[0m\u001b[1;33m\u001b[0m\u001b[0m\n\u001b[1;32m--> 947\u001b[1;33m       \u001b[1;32mreturn\u001b[0m \u001b[0mself\u001b[0m\u001b[1;33m.\u001b[0m\u001b[0m_stateless_fn\u001b[0m\u001b[1;33m(\u001b[0m\u001b[1;33m*\u001b[0m\u001b[0margs\u001b[0m\u001b[1;33m,\u001b[0m \u001b[1;33m**\u001b[0m\u001b[0mkwds\u001b[0m\u001b[1;33m)\u001b[0m  \u001b[1;31m# pylint: disable=not-callable\u001b[0m\u001b[1;33m\u001b[0m\u001b[1;33m\u001b[0m\u001b[0m\n\u001b[0m\u001b[0;32m    948\u001b[0m     \u001b[1;32melif\u001b[0m \u001b[0mself\u001b[0m\u001b[1;33m.\u001b[0m\u001b[0m_stateful_fn\u001b[0m \u001b[1;32mis\u001b[0m \u001b[1;32mnot\u001b[0m \u001b[1;32mNone\u001b[0m\u001b[1;33m:\u001b[0m\u001b[1;33m\u001b[0m\u001b[1;33m\u001b[0m\u001b[0m\n\u001b[0;32m    949\u001b[0m       \u001b[1;31m# Release the lock early so that multiple threads can perform the call\u001b[0m\u001b[1;33m\u001b[0m\u001b[1;33m\u001b[0m\u001b[0m\n",
      "\u001b[1;32m~\\anaconda3\\lib\\site-packages\\tensorflow\\python\\eager\\function.py\u001b[0m in \u001b[0;36m__call__\u001b[1;34m(self, *args, **kwargs)\u001b[0m\n\u001b[0;32m   2954\u001b[0m       (graph_function,\n\u001b[0;32m   2955\u001b[0m        filtered_flat_args) = self._maybe_define_function(args, kwargs)\n\u001b[1;32m-> 2956\u001b[1;33m     return graph_function._call_flat(\n\u001b[0m\u001b[0;32m   2957\u001b[0m         filtered_flat_args, captured_inputs=graph_function.captured_inputs)  # pylint: disable=protected-access\n\u001b[0;32m   2958\u001b[0m \u001b[1;33m\u001b[0m\u001b[0m\n",
      "\u001b[1;32m~\\anaconda3\\lib\\site-packages\\tensorflow\\python\\eager\\function.py\u001b[0m in \u001b[0;36m_call_flat\u001b[1;34m(self, args, captured_inputs, cancellation_manager)\u001b[0m\n\u001b[0;32m   1851\u001b[0m         and executing_eagerly):\n\u001b[0;32m   1852\u001b[0m       \u001b[1;31m# No tape is watching; skip to running the function.\u001b[0m\u001b[1;33m\u001b[0m\u001b[1;33m\u001b[0m\u001b[0m\n\u001b[1;32m-> 1853\u001b[1;33m       return self._build_call_outputs(self._inference_function.call(\n\u001b[0m\u001b[0;32m   1854\u001b[0m           ctx, args, cancellation_manager=cancellation_manager))\n\u001b[0;32m   1855\u001b[0m     forward_backward = self._select_forward_and_backward_functions(\n",
      "\u001b[1;32m~\\anaconda3\\lib\\site-packages\\tensorflow\\python\\eager\\function.py\u001b[0m in \u001b[0;36mcall\u001b[1;34m(self, ctx, args, cancellation_manager)\u001b[0m\n\u001b[0;32m    497\u001b[0m       \u001b[1;32mwith\u001b[0m \u001b[0m_InterpolateFunctionError\u001b[0m\u001b[1;33m(\u001b[0m\u001b[0mself\u001b[0m\u001b[1;33m)\u001b[0m\u001b[1;33m:\u001b[0m\u001b[1;33m\u001b[0m\u001b[1;33m\u001b[0m\u001b[0m\n\u001b[0;32m    498\u001b[0m         \u001b[1;32mif\u001b[0m \u001b[0mcancellation_manager\u001b[0m \u001b[1;32mis\u001b[0m \u001b[1;32mNone\u001b[0m\u001b[1;33m:\u001b[0m\u001b[1;33m\u001b[0m\u001b[1;33m\u001b[0m\u001b[0m\n\u001b[1;32m--> 499\u001b[1;33m           outputs = execute.execute(\n\u001b[0m\u001b[0;32m    500\u001b[0m               \u001b[0mstr\u001b[0m\u001b[1;33m(\u001b[0m\u001b[0mself\u001b[0m\u001b[1;33m.\u001b[0m\u001b[0msignature\u001b[0m\u001b[1;33m.\u001b[0m\u001b[0mname\u001b[0m\u001b[1;33m)\u001b[0m\u001b[1;33m,\u001b[0m\u001b[1;33m\u001b[0m\u001b[1;33m\u001b[0m\u001b[0m\n\u001b[0;32m    501\u001b[0m               \u001b[0mnum_outputs\u001b[0m\u001b[1;33m=\u001b[0m\u001b[0mself\u001b[0m\u001b[1;33m.\u001b[0m\u001b[0m_num_outputs\u001b[0m\u001b[1;33m,\u001b[0m\u001b[1;33m\u001b[0m\u001b[1;33m\u001b[0m\u001b[0m\n",
      "\u001b[1;32m~\\anaconda3\\lib\\site-packages\\tensorflow\\python\\eager\\execute.py\u001b[0m in \u001b[0;36mquick_execute\u001b[1;34m(op_name, num_outputs, inputs, attrs, ctx, name)\u001b[0m\n\u001b[0;32m     52\u001b[0m   \u001b[1;32mtry\u001b[0m\u001b[1;33m:\u001b[0m\u001b[1;33m\u001b[0m\u001b[1;33m\u001b[0m\u001b[0m\n\u001b[0;32m     53\u001b[0m     \u001b[0mctx\u001b[0m\u001b[1;33m.\u001b[0m\u001b[0mensure_initialized\u001b[0m\u001b[1;33m(\u001b[0m\u001b[1;33m)\u001b[0m\u001b[1;33m\u001b[0m\u001b[1;33m\u001b[0m\u001b[0m\n\u001b[1;32m---> 54\u001b[1;33m     tensors = pywrap_tfe.TFE_Py_Execute(ctx._handle, device_name, op_name,\n\u001b[0m\u001b[0;32m     55\u001b[0m                                         inputs, attrs, num_outputs)\n\u001b[0;32m     56\u001b[0m   \u001b[1;32mexcept\u001b[0m \u001b[0mcore\u001b[0m\u001b[1;33m.\u001b[0m\u001b[0m_NotOkStatusException\u001b[0m \u001b[1;32mas\u001b[0m \u001b[0me\u001b[0m\u001b[1;33m:\u001b[0m\u001b[1;33m\u001b[0m\u001b[1;33m\u001b[0m\u001b[0m\n",
      "\u001b[1;31mKeyboardInterrupt\u001b[0m: "
     ]
    }
   ],
   "source": [
    "cnn_history = model_cnn.fit(train_data, \n",
    "                            validation_data=(valid_data),\n",
    "                            steps_per_epoch=steps_per_epoch,\n",
    "                            validation_steps=validation_steps,\n",
    "                            epochs=2, \n",
    "                            callbacks=[checkpoint, early_stopping])\n",
    "model_cnn.load_weights(checkpoint_path)                      \n",
    "model_cnn.save(\"cats-dogs-cnn3.h5\")      "
   ]
  },
  {
   "cell_type": "code",
   "execution_count": 34,
   "metadata": {
    "executionInfo": {
     "elapsed": 17906,
     "status": "ok",
     "timestamp": 1623916357808,
     "user": {
      "displayName": "장동인",
      "photoUrl": "https://lh3.googleusercontent.com/a-/AOh14GjtH-nzWoP-jq2RH7c0eYfqUajpfyEbvc89te9pzGE=s64",
      "userId": "02670735376060801913"
     },
     "user_tz": -540
    },
    "id": "TmzwKjOXiDpv"
   },
   "outputs": [],
   "source": [
    "model_cnn.load_weights(checkpoint_path)                      \n",
    "model_cnn.save(\"cats-dogs-cnn1.h5\")     "
   ]
  },
  {
   "cell_type": "code",
   "execution_count": null,
   "metadata": {},
   "outputs": [
    {
     "name": "stdout",
     "output_type": "stream",
     "text": [
      "Epoch 1/2\n",
      "582/582 [==============================] - ETA: 0s - loss: 0.4581 - accuracy: 0.7882\n",
      "Epoch 1: val_loss improved from 0.51876 to 0.41425, saving model to checkpoint.ckpt\n",
      "582/582 [==============================] - 1827s 3s/step - loss: 0.4581 - accuracy: 0.7882 - val_loss: 0.4143 - val_accuracy: 0.8076\n",
      "Epoch 2/2\n",
      "582/582 [==============================] - ETA: 0s - loss: 0.3614 - accuracy: 0.8413"
     ]
    }
   ],
   "source": [
    "cnn_history = model_cnn.fit(train_data, \n",
    "                            validation_data=(valid_data),\n",
    "                            steps_per_epoch=steps_per_epoch,\n",
    "                            validation_steps=validation_steps,\n",
    "                            epochs=2, \n",
    "                            callbacks=[checkpoint, early_stopping])\n",
    "model_cnn.load_weights(checkpoint_path)                      \n",
    "model_cnn.save(\"cats-dogs-cnn3.h5\")      "
   ]
  },
  {
   "cell_type": "code",
   "execution_count": null,
   "metadata": {},
   "outputs": [],
   "source": [
    "model_cnn.load_weights(checkpoint_path)                      \n",
    "model_cnn.save(\"cats-dogs-cnn3.h5\")   "
   ]
  },
  {
   "cell_type": "markdown",
   "metadata": {
    "id": "QueCis_KdiwS"
   },
   "source": [
    "## Transfer Learning (VGG 16)"
   ]
  },
  {
   "cell_type": "markdown",
   "metadata": {
    "id": "LUfcCfi3diwT"
   },
   "source": [
    "**VGG-16**은 ImageNet 데이터베이스의 1백만 개가 넘는 영상에 대해 훈련된 컨벌루션 신경망입니다. 이 네트워크에는 16개의 계층이 있으며, 영상을 키보드, 마우스, 연필, 각종 동물 등 1,000가지 사물 범주로 분류할 수 있습니다. 그 결과 이 네트워크는 다양한 영상을 대표하는 다양한 특징을 학습했습니다. "
   ]
  },
  {
   "cell_type": "markdown",
   "metadata": {
    "id": "PQgk-131diwT"
   },
   "source": [
    "**VGG-16모델**을 활용하여 Transfer Learning 을 진행합니다."
   ]
  },
  {
   "cell_type": "code",
   "execution_count": null,
   "metadata": {
    "colab": {
     "base_uri": "https://localhost:8080/",
     "height": 376
    },
    "executionInfo": {
     "elapsed": 993,
     "status": "ok",
     "timestamp": 1623916358796,
     "user": {
      "displayName": "장동인",
      "photoUrl": "https://lh3.googleusercontent.com/a-/AOh14GjtH-nzWoP-jq2RH7c0eYfqUajpfyEbvc89te9pzGE=s64",
      "userId": "02670735376060801913"
     },
     "user_tz": -540
    },
    "id": "ZoxzpZuPdiwT",
    "outputId": "c20c7205-8b50-4606-e9b3-f91c49e0e071"
   },
   "outputs": [],
   "source": [
    "from IPython.display import Image\n",
    "Image('https://s3.ap-south-1.amazonaws.com/techleer/309.jpg')"
   ]
  },
  {
   "cell_type": "markdown",
   "metadata": {
    "id": "OnAwnO5kV_BI"
   },
   "source": [
    "### include_top 은 실제 vgg16의 마지막 부분인 분류기 (softmax를 포함한 1000개 category로 분류)를 포함하냐(True), 마느냐(False)를 선택합니다. 우리는 cat 이냐 dog 이냐를 분류하려고 하므로 False로 합니다."
   ]
  },
  {
   "cell_type": "code",
   "execution_count": null,
   "metadata": {
    "executionInfo": {
     "elapsed": 340,
     "status": "ok",
     "timestamp": 1623917671268,
     "user": {
      "displayName": "장동인",
      "photoUrl": "https://lh3.googleusercontent.com/a-/AOh14GjtH-nzWoP-jq2RH7c0eYfqUajpfyEbvc89te9pzGE=s64",
      "userId": "02670735376060801913"
     },
     "user_tz": -540
    },
    "id": "r3PfIEWXdiwV"
   },
   "outputs": [],
   "source": [
    "transfer_model = VGG16(weights='imagenet', include_top=False, input_shape=(300, 300, 3))"
   ]
  },
  {
   "cell_type": "markdown",
   "metadata": {
    "id": "WDDqrXmeWiYG"
   },
   "source": [
    "### 불러오는 vgg16은 새로 학습할 것이 아니므로 trainable = False로 합니다."
   ]
  },
  {
   "cell_type": "code",
   "execution_count": null,
   "metadata": {
    "executionInfo": {
     "elapsed": 7,
     "status": "ok",
     "timestamp": 1623917673037,
     "user": {
      "displayName": "장동인",
      "photoUrl": "https://lh3.googleusercontent.com/a-/AOh14GjtH-nzWoP-jq2RH7c0eYfqUajpfyEbvc89te9pzGE=s64",
      "userId": "02670735376060801913"
     },
     "user_tz": -540
    },
    "id": "QoNdMMIXdiwX"
   },
   "outputs": [],
   "source": [
    "transfer_model.trainable=False"
   ]
  },
  {
   "cell_type": "code",
   "execution_count": null,
   "metadata": {
    "executionInfo": {
     "elapsed": 5,
     "status": "ok",
     "timestamp": 1623917674432,
     "user": {
      "displayName": "장동인",
      "photoUrl": "https://lh3.googleusercontent.com/a-/AOh14GjtH-nzWoP-jq2RH7c0eYfqUajpfyEbvc89te9pzGE=s64",
      "userId": "02670735376060801913"
     },
     "user_tz": -540
    },
    "id": "N7cAca29diwZ"
   },
   "outputs": [],
   "source": [
    "model_tr = Sequential([\n",
    "    transfer_model, \n",
    "    Flatten(), \n",
    "    Dense(64, activation='relu'), \n",
    "    Dense(1, activation='sigmoid')\n",
    "    ])"
   ]
  },
  {
   "cell_type": "code",
   "execution_count": null,
   "metadata": {
    "executionInfo": {
     "elapsed": 7,
     "status": "ok",
     "timestamp": 1623917675585,
     "user": {
      "displayName": "장동인",
      "photoUrl": "https://lh3.googleusercontent.com/a-/AOh14GjtH-nzWoP-jq2RH7c0eYfqUajpfyEbvc89te9pzGE=s64",
      "userId": "02670735376060801913"
     },
     "user_tz": -540
    },
    "id": "F9fZ9AEbdiwa"
   },
   "outputs": [],
   "source": [
    "model_tr.compile(optimizer='adam', loss='binary_crossentropy', metrics=['accuracy'])"
   ]
  },
  {
   "cell_type": "code",
   "execution_count": null,
   "metadata": {
    "executionInfo": {
     "elapsed": 6,
     "status": "ok",
     "timestamp": 1623917676740,
     "user": {
      "displayName": "장동인",
      "photoUrl": "https://lh3.googleusercontent.com/a-/AOh14GjtH-nzWoP-jq2RH7c0eYfqUajpfyEbvc89te9pzGE=s64",
      "userId": "02670735376060801913"
     },
     "user_tz": -540
    },
    "id": "tfyoYsVMCJQK"
   },
   "outputs": [],
   "source": [
    "early_stopping = EarlyStopping(monitor='val_loss', patience=10)\n",
    "\n",
    "checkpoint_path = 'checkpoint.ckpt'\n",
    "checkpoint = ModelCheckpoint(checkpoint_path, \n",
    "        save_best_only=True, \n",
    "        save_weights_only=True, \n",
    "        monitor='val_loss', \n",
    "        verbose=1)"
   ]
  },
  {
   "cell_type": "code",
   "execution_count": null,
   "metadata": {
    "colab": {
     "base_uri": "https://localhost:8080/"
    },
    "executionInfo": {
     "elapsed": 1299483,
     "status": "ok",
     "timestamp": 1623918977440,
     "user": {
      "displayName": "장동인",
      "photoUrl": "https://lh3.googleusercontent.com/a-/AOh14GjtH-nzWoP-jq2RH7c0eYfqUajpfyEbvc89te9pzGE=s64",
      "userId": "02670735376060801913"
     },
     "user_tz": -540
    },
    "id": "K419iZ3zdiwc",
    "outputId": "7cfbbfe9-c075-4596-d2a0-4c0e97976a10"
   },
   "outputs": [],
   "source": [
    "transfer_history = model_tr.fit(train_data, \n",
    "                             validation_data=(valid_data),\n",
    "                             steps_per_epoch=steps_per_epoch,\n",
    "                             validation_steps=validation_steps,\n",
    "                             epochs=EPOCHS, \n",
    "                             callbacks=[checkpoint, early_stopping])\n",
    "model_tr.load_weights(checkpoint_path)                      \n",
    "model_tr.save(\"cats-dogs-tr.h5\")      "
   ]
  },
  {
   "cell_type": "markdown",
   "metadata": {
    "id": "yDX-bdgHdiwe"
   },
   "source": [
    "## 성능 Visualization"
   ]
  },
  {
   "cell_type": "markdown",
   "metadata": {
    "id": "uCKzKE0pdiwe"
   },
   "source": [
    "**Losses** 와 **Accuracy**를 보면, Transfer Learning 모델이 훨씬 초기 수렴이 빠를 뿐더러, 최종 성능도 accuracy 기준 **약 10%** 가량 우수하다는 것을 확인할 수 있습니다."
   ]
  },
  {
   "cell_type": "code",
   "execution_count": null,
   "metadata": {
    "executionInfo": {
     "elapsed": 37,
     "status": "aborted",
     "timestamp": 1623917019355,
     "user": {
      "displayName": "장동인",
      "photoUrl": "https://lh3.googleusercontent.com/a-/AOh14GjtH-nzWoP-jq2RH7c0eYfqUajpfyEbvc89te9pzGE=s64",
      "userId": "02670735376060801913"
     },
     "user_tz": -540
    },
    "id": "ZtdY-Of_diwe"
   },
   "outputs": [],
   "source": [
    "EPOCHS = 19\n",
    "plt.figure(figsize=(12, 10))\n",
    "plt.plot(np.arange(1, EPOCHS+1), cnn_history.history['val_loss'], label='CNN')\n",
    "plt.plot(np.arange(1, EPOCHS+1), transfer_history.history['val_loss'], label='TRANSFER')\n",
    "plt.xlabel('EPOCHS')\n",
    "plt.ylabel('LOSSES')\n",
    "plt.title('LOSSES')\n",
    "plt.legend()\n",
    "plt.show()"
   ]
  },
  {
   "cell_type": "code",
   "execution_count": null,
   "metadata": {
    "executionInfo": {
     "elapsed": 36,
     "status": "aborted",
     "timestamp": 1623917019358,
     "user": {
      "displayName": "장동인",
      "photoUrl": "https://lh3.googleusercontent.com/a-/AOh14GjtH-nzWoP-jq2RH7c0eYfqUajpfyEbvc89te9pzGE=s64",
      "userId": "02670735376060801913"
     },
     "user_tz": -540
    },
    "id": "L_QiYn1tdiwg"
   },
   "outputs": [],
   "source": [
    "plt.figure(figsize=(12, 10))\n",
    "plt.plot(np.arange(1, EPOCHS+1), cnn_history.history['val_accuracy'], label='CNN')\n",
    "plt.plot(np.arange(1, EPOCHS+1), transfer_history.history['val_accuracy'], label='TRANSFER')\n",
    "plt.xlabel('EPOCHS')\n",
    "plt.ylabel('Accuracy')\n",
    "plt.title('Accuracy Graph')\n",
    "plt.legend()\n",
    "plt.show()"
   ]
  },
  {
   "cell_type": "code",
   "execution_count": null,
   "metadata": {
    "executionInfo": {
     "elapsed": 37,
     "status": "aborted",
     "timestamp": 1623917019360,
     "user": {
      "displayName": "장동인",
      "photoUrl": "https://lh3.googleusercontent.com/a-/AOh14GjtH-nzWoP-jq2RH7c0eYfqUajpfyEbvc89te9pzGE=s64",
      "userId": "02670735376060801913"
     },
     "user_tz": -540
    },
    "id": "zap5K2C7u-fQ"
   },
   "outputs": [],
   "source": []
  }
 ],
 "metadata": {
  "accelerator": "GPU",
  "colab": {
   "collapsed_sections": [],
   "name": "cats_vs_dogs-transfer 강의.ipynb",
   "provenance": []
  },
  "kernelspec": {
   "display_name": "Python 3 (ipykernel)",
   "language": "python",
   "name": "python3"
  },
  "language_info": {
   "codemirror_mode": {
    "name": "ipython",
    "version": 3
   },
   "file_extension": ".py",
   "mimetype": "text/x-python",
   "name": "python",
   "nbconvert_exporter": "python",
   "pygments_lexer": "ipython3",
   "version": "3.9.7"
  },
  "widgets": {
   "application/vnd.jupyter.widget-state+json": {
    "07afc56393684da09f9b304396a5003c": {
     "model_module": "@jupyter-widgets/base",
     "model_name": "LayoutModel",
     "state": {
      "_model_module": "@jupyter-widgets/base",
      "_model_module_version": "1.2.0",
      "_model_name": "LayoutModel",
      "_view_count": null,
      "_view_module": "@jupyter-widgets/base",
      "_view_module_version": "1.2.0",
      "_view_name": "LayoutView",
      "align_content": null,
      "align_items": null,
      "align_self": null,
      "border": null,
      "bottom": null,
      "display": null,
      "flex": null,
      "flex_flow": null,
      "grid_area": null,
      "grid_auto_columns": null,
      "grid_auto_flow": null,
      "grid_auto_rows": null,
      "grid_column": null,
      "grid_gap": null,
      "grid_row": null,
      "grid_template_areas": null,
      "grid_template_columns": null,
      "grid_template_rows": null,
      "height": null,
      "justify_content": null,
      "justify_items": null,
      "left": null,
      "margin": null,
      "max_height": null,
      "max_width": null,
      "min_height": null,
      "min_width": null,
      "object_fit": null,
      "object_position": null,
      "order": null,
      "overflow": null,
      "overflow_x": null,
      "overflow_y": null,
      "padding": null,
      "right": null,
      "top": null,
      "visibility": null,
      "width": null
     }
    },
    "145a1513e9e74d309dd70e27a60937a7": {
     "model_module": "@jupyter-widgets/controls",
     "model_name": "HTMLModel",
     "state": {
      "_dom_classes": [],
      "_model_module": "@jupyter-widgets/controls",
      "_model_module_version": "1.5.0",
      "_model_name": "HTMLModel",
      "_view_count": null,
      "_view_module": "@jupyter-widgets/controls",
      "_view_module_version": "1.5.0",
      "_view_name": "HTMLView",
      "description": "",
      "description_tooltip": null,
      "layout": "IPY_MODEL_557bb4513f9941ecaa5b7a3ed760711a",
      "placeholder": "​",
      "style": "IPY_MODEL_36c788b3867543e38f73e517b27ce9c6",
      "value": " 22691/23262 [00:02&lt;00:00, 7856.64 examples/s]"
     }
    },
    "21e9c4cd6bb543e3a32849b4f2742f95": {
     "model_module": "@jupyter-widgets/controls",
     "model_name": "FloatProgressModel",
     "state": {
      "_dom_classes": [],
      "_model_module": "@jupyter-widgets/controls",
      "_model_module_version": "1.5.0",
      "_model_name": "FloatProgressModel",
      "_view_count": null,
      "_view_module": "@jupyter-widgets/controls",
      "_view_module_version": "1.5.0",
      "_view_name": "ProgressView",
      "bar_style": "success",
      "description": "Dl Completed...: 100%",
      "description_tooltip": null,
      "layout": "IPY_MODEL_fca9fa1a1c764e08be76852760fc866c",
      "max": 1,
      "min": 0,
      "orientation": "horizontal",
      "style": "IPY_MODEL_b1c329249fbe4d8081181ead712e039c",
      "value": 1
     }
    },
    "249cb20fc9d94c4ab6ad3f63665836f3": {
     "model_module": "@jupyter-widgets/base",
     "model_name": "LayoutModel",
     "state": {
      "_model_module": "@jupyter-widgets/base",
      "_model_module_version": "1.2.0",
      "_model_name": "LayoutModel",
      "_view_count": null,
      "_view_module": "@jupyter-widgets/base",
      "_view_module_version": "1.2.0",
      "_view_name": "LayoutView",
      "align_content": null,
      "align_items": null,
      "align_self": null,
      "border": null,
      "bottom": null,
      "display": null,
      "flex": null,
      "flex_flow": null,
      "grid_area": null,
      "grid_auto_columns": null,
      "grid_auto_flow": null,
      "grid_auto_rows": null,
      "grid_column": null,
      "grid_gap": null,
      "grid_row": null,
      "grid_template_areas": null,
      "grid_template_columns": null,
      "grid_template_rows": null,
      "height": null,
      "justify_content": null,
      "justify_items": null,
      "left": null,
      "margin": null,
      "max_height": null,
      "max_width": null,
      "min_height": null,
      "min_width": null,
      "object_fit": null,
      "object_position": null,
      "order": null,
      "overflow": null,
      "overflow_x": null,
      "overflow_y": null,
      "padding": null,
      "right": null,
      "top": null,
      "visibility": null,
      "width": null
     }
    },
    "2fabc938f0e54a4db2f1bd8c13ff58cd": {
     "model_module": "@jupyter-widgets/controls",
     "model_name": "HBoxModel",
     "state": {
      "_dom_classes": [],
      "_model_module": "@jupyter-widgets/controls",
      "_model_module_version": "1.5.0",
      "_model_name": "HBoxModel",
      "_view_count": null,
      "_view_module": "@jupyter-widgets/controls",
      "_view_module_version": "1.5.0",
      "_view_name": "HBoxView",
      "box_style": "",
      "children": [
       "IPY_MODEL_21e9c4cd6bb543e3a32849b4f2742f95",
       "IPY_MODEL_86ef4d001aad4e3791cade98b038742d"
      ],
      "layout": "IPY_MODEL_aab9b858d1e041458707491988ab83da"
     }
    },
    "34431a092f2f404e9e6efe21e5d9f2d6": {
     "model_module": "@jupyter-widgets/controls",
     "model_name": "ProgressStyleModel",
     "state": {
      "_model_module": "@jupyter-widgets/controls",
      "_model_module_version": "1.5.0",
      "_model_name": "ProgressStyleModel",
      "_view_count": null,
      "_view_module": "@jupyter-widgets/base",
      "_view_module_version": "1.2.0",
      "_view_name": "StyleView",
      "bar_color": null,
      "description_width": "initial"
     }
    },
    "36c788b3867543e38f73e517b27ce9c6": {
     "model_module": "@jupyter-widgets/controls",
     "model_name": "DescriptionStyleModel",
     "state": {
      "_model_module": "@jupyter-widgets/controls",
      "_model_module_version": "1.5.0",
      "_model_name": "DescriptionStyleModel",
      "_view_count": null,
      "_view_module": "@jupyter-widgets/base",
      "_view_module_version": "1.2.0",
      "_view_name": "StyleView",
      "description_width": ""
     }
    },
    "53381eca8c0c42b3a8580ef96f91bf49": {
     "model_module": "@jupyter-widgets/controls",
     "model_name": "HTMLModel",
     "state": {
      "_dom_classes": [],
      "_model_module": "@jupyter-widgets/controls",
      "_model_module_version": "1.5.0",
      "_model_name": "HTMLModel",
      "_view_count": null,
      "_view_module": "@jupyter-widgets/controls",
      "_view_module_version": "1.5.0",
      "_view_name": "HTMLView",
      "description": "",
      "description_tooltip": null,
      "layout": "IPY_MODEL_561b0810aa6d474f9366d604fa8199a1",
      "placeholder": "​",
      "style": "IPY_MODEL_8c6ea4d2d7674d3dbfda15e1b82c2c02",
      "value": " 23262/0 [00:12&lt;00:00, 1909.11 examples/s]"
     }
    },
    "557bb4513f9941ecaa5b7a3ed760711a": {
     "model_module": "@jupyter-widgets/base",
     "model_name": "LayoutModel",
     "state": {
      "_model_module": "@jupyter-widgets/base",
      "_model_module_version": "1.2.0",
      "_model_name": "LayoutModel",
      "_view_count": null,
      "_view_module": "@jupyter-widgets/base",
      "_view_module_version": "1.2.0",
      "_view_name": "LayoutView",
      "align_content": null,
      "align_items": null,
      "align_self": null,
      "border": null,
      "bottom": null,
      "display": null,
      "flex": null,
      "flex_flow": null,
      "grid_area": null,
      "grid_auto_columns": null,
      "grid_auto_flow": null,
      "grid_auto_rows": null,
      "grid_column": null,
      "grid_gap": null,
      "grid_row": null,
      "grid_template_areas": null,
      "grid_template_columns": null,
      "grid_template_rows": null,
      "height": null,
      "justify_content": null,
      "justify_items": null,
      "left": null,
      "margin": null,
      "max_height": null,
      "max_width": null,
      "min_height": null,
      "min_width": null,
      "object_fit": null,
      "object_position": null,
      "order": null,
      "overflow": null,
      "overflow_x": null,
      "overflow_y": null,
      "padding": null,
      "right": null,
      "top": null,
      "visibility": null,
      "width": null
     }
    },
    "560b841b85974c0383dfc316167b5cae": {
     "model_module": "@jupyter-widgets/controls",
     "model_name": "HBoxModel",
     "state": {
      "_dom_classes": [],
      "_model_module": "@jupyter-widgets/controls",
      "_model_module_version": "1.5.0",
      "_model_name": "HBoxModel",
      "_view_count": null,
      "_view_module": "@jupyter-widgets/controls",
      "_view_module_version": "1.5.0",
      "_view_name": "HBoxView",
      "box_style": "",
      "children": [
       "IPY_MODEL_c03997c18ab1476d8614c926ebb00f33",
       "IPY_MODEL_59608d95928442529295dbb42b276556"
      ],
      "layout": "IPY_MODEL_e80bdd2e69684db1b6c4ce0fcf55a861"
     }
    },
    "561b0810aa6d474f9366d604fa8199a1": {
     "model_module": "@jupyter-widgets/base",
     "model_name": "LayoutModel",
     "state": {
      "_model_module": "@jupyter-widgets/base",
      "_model_module_version": "1.2.0",
      "_model_name": "LayoutModel",
      "_view_count": null,
      "_view_module": "@jupyter-widgets/base",
      "_view_module_version": "1.2.0",
      "_view_name": "LayoutView",
      "align_content": null,
      "align_items": null,
      "align_self": null,
      "border": null,
      "bottom": null,
      "display": null,
      "flex": null,
      "flex_flow": null,
      "grid_area": null,
      "grid_auto_columns": null,
      "grid_auto_flow": null,
      "grid_auto_rows": null,
      "grid_column": null,
      "grid_gap": null,
      "grid_row": null,
      "grid_template_areas": null,
      "grid_template_columns": null,
      "grid_template_rows": null,
      "height": null,
      "justify_content": null,
      "justify_items": null,
      "left": null,
      "margin": null,
      "max_height": null,
      "max_width": null,
      "min_height": null,
      "min_width": null,
      "object_fit": null,
      "object_position": null,
      "order": null,
      "overflow": null,
      "overflow_x": null,
      "overflow_y": null,
      "padding": null,
      "right": null,
      "top": null,
      "visibility": null,
      "width": null
     }
    },
    "59608d95928442529295dbb42b276556": {
     "model_module": "@jupyter-widgets/controls",
     "model_name": "HTMLModel",
     "state": {
      "_dom_classes": [],
      "_model_module": "@jupyter-widgets/controls",
      "_model_module_version": "1.5.0",
      "_model_name": "HTMLModel",
      "_view_count": null,
      "_view_module": "@jupyter-widgets/controls",
      "_view_module_version": "1.5.0",
      "_view_name": "HTMLView",
      "description": "",
      "description_tooltip": null,
      "layout": "IPY_MODEL_ed81f0415e754770bdef4e87068f1c0b",
      "placeholder": "​",
      "style": "IPY_MODEL_f76b3770b5324340a23db3b540006009",
      "value": " 786/786 [00:12&lt;00:00, 60.98 MiB/s]"
     }
    },
    "5bd22048b1da45c2b9e78314b7d8553b": {
     "model_module": "@jupyter-widgets/controls",
     "model_name": "HBoxModel",
     "state": {
      "_dom_classes": [],
      "_model_module": "@jupyter-widgets/controls",
      "_model_module_version": "1.5.0",
      "_model_name": "HBoxModel",
      "_view_count": null,
      "_view_module": "@jupyter-widgets/controls",
      "_view_module_version": "1.5.0",
      "_view_name": "HBoxView",
      "box_style": "",
      "children": [
       "IPY_MODEL_c247b6d544be480d80568384c2150356",
       "IPY_MODEL_145a1513e9e74d309dd70e27a60937a7"
      ],
      "layout": "IPY_MODEL_5d814427396d42bca526e1aebc114262"
     }
    },
    "5d814427396d42bca526e1aebc114262": {
     "model_module": "@jupyter-widgets/base",
     "model_name": "LayoutModel",
     "state": {
      "_model_module": "@jupyter-widgets/base",
      "_model_module_version": "1.2.0",
      "_model_name": "LayoutModel",
      "_view_count": null,
      "_view_module": "@jupyter-widgets/base",
      "_view_module_version": "1.2.0",
      "_view_name": "LayoutView",
      "align_content": null,
      "align_items": null,
      "align_self": null,
      "border": null,
      "bottom": null,
      "display": null,
      "flex": null,
      "flex_flow": null,
      "grid_area": null,
      "grid_auto_columns": null,
      "grid_auto_flow": null,
      "grid_auto_rows": null,
      "grid_column": null,
      "grid_gap": null,
      "grid_row": null,
      "grid_template_areas": null,
      "grid_template_columns": null,
      "grid_template_rows": null,
      "height": null,
      "justify_content": null,
      "justify_items": null,
      "left": null,
      "margin": null,
      "max_height": null,
      "max_width": null,
      "min_height": null,
      "min_width": null,
      "object_fit": null,
      "object_position": null,
      "order": null,
      "overflow": null,
      "overflow_x": null,
      "overflow_y": null,
      "padding": null,
      "right": null,
      "top": null,
      "visibility": null,
      "width": null
     }
    },
    "64188fa21d6442dd9ebd36db1ae5348e": {
     "model_module": "@jupyter-widgets/controls",
     "model_name": "HBoxModel",
     "state": {
      "_dom_classes": [],
      "_model_module": "@jupyter-widgets/controls",
      "_model_module_version": "1.5.0",
      "_model_name": "HBoxModel",
      "_view_count": null,
      "_view_module": "@jupyter-widgets/controls",
      "_view_module_version": "1.5.0",
      "_view_name": "HBoxView",
      "box_style": "",
      "children": [
       "IPY_MODEL_9298ba89798845cd9300cda11373493d",
       "IPY_MODEL_53381eca8c0c42b3a8580ef96f91bf49"
      ],
      "layout": "IPY_MODEL_b715d457c2004bffb66aa85ecb81c4d4"
     }
    },
    "6fb490bb5a254d078ba22043a9d7ae71": {
     "model_module": "@jupyter-widgets/controls",
     "model_name": "ProgressStyleModel",
     "state": {
      "_model_module": "@jupyter-widgets/controls",
      "_model_module_version": "1.5.0",
      "_model_name": "ProgressStyleModel",
      "_view_count": null,
      "_view_module": "@jupyter-widgets/base",
      "_view_module_version": "1.2.0",
      "_view_name": "StyleView",
      "bar_color": null,
      "description_width": "initial"
     }
    },
    "6fbcebb6733244119f1c4eb74bb222c7": {
     "model_module": "@jupyter-widgets/base",
     "model_name": "LayoutModel",
     "state": {
      "_model_module": "@jupyter-widgets/base",
      "_model_module_version": "1.2.0",
      "_model_name": "LayoutModel",
      "_view_count": null,
      "_view_module": "@jupyter-widgets/base",
      "_view_module_version": "1.2.0",
      "_view_name": "LayoutView",
      "align_content": null,
      "align_items": null,
      "align_self": null,
      "border": null,
      "bottom": null,
      "display": null,
      "flex": null,
      "flex_flow": null,
      "grid_area": null,
      "grid_auto_columns": null,
      "grid_auto_flow": null,
      "grid_auto_rows": null,
      "grid_column": null,
      "grid_gap": null,
      "grid_row": null,
      "grid_template_areas": null,
      "grid_template_columns": null,
      "grid_template_rows": null,
      "height": null,
      "justify_content": null,
      "justify_items": null,
      "left": null,
      "margin": null,
      "max_height": null,
      "max_width": null,
      "min_height": null,
      "min_width": null,
      "object_fit": null,
      "object_position": null,
      "order": null,
      "overflow": null,
      "overflow_x": null,
      "overflow_y": null,
      "padding": null,
      "right": null,
      "top": null,
      "visibility": null,
      "width": null
     }
    },
    "86ef4d001aad4e3791cade98b038742d": {
     "model_module": "@jupyter-widgets/controls",
     "model_name": "HTMLModel",
     "state": {
      "_dom_classes": [],
      "_model_module": "@jupyter-widgets/controls",
      "_model_module_version": "1.5.0",
      "_model_name": "HTMLModel",
      "_view_count": null,
      "_view_module": "@jupyter-widgets/controls",
      "_view_module_version": "1.5.0",
      "_view_name": "HTMLView",
      "description": "",
      "description_tooltip": null,
      "layout": "IPY_MODEL_6fbcebb6733244119f1c4eb74bb222c7",
      "placeholder": "​",
      "style": "IPY_MODEL_8ddf97be3fab4a09812d9f4ffcf9eff8",
      "value": " 1/1 [00:12&lt;00:00, 12.93s/ url]"
     }
    },
    "8c6ea4d2d7674d3dbfda15e1b82c2c02": {
     "model_module": "@jupyter-widgets/controls",
     "model_name": "DescriptionStyleModel",
     "state": {
      "_model_module": "@jupyter-widgets/controls",
      "_model_module_version": "1.5.0",
      "_model_name": "DescriptionStyleModel",
      "_view_count": null,
      "_view_module": "@jupyter-widgets/base",
      "_view_module_version": "1.2.0",
      "_view_name": "StyleView",
      "description_width": ""
     }
    },
    "8ddf97be3fab4a09812d9f4ffcf9eff8": {
     "model_module": "@jupyter-widgets/controls",
     "model_name": "DescriptionStyleModel",
     "state": {
      "_model_module": "@jupyter-widgets/controls",
      "_model_module_version": "1.5.0",
      "_model_name": "DescriptionStyleModel",
      "_view_count": null,
      "_view_module": "@jupyter-widgets/base",
      "_view_module_version": "1.2.0",
      "_view_name": "StyleView",
      "description_width": ""
     }
    },
    "9298ba89798845cd9300cda11373493d": {
     "model_module": "@jupyter-widgets/controls",
     "model_name": "FloatProgressModel",
     "state": {
      "_dom_classes": [],
      "_model_module": "@jupyter-widgets/controls",
      "_model_module_version": "1.5.0",
      "_model_name": "FloatProgressModel",
      "_view_count": null,
      "_view_module": "@jupyter-widgets/controls",
      "_view_module_version": "1.5.0",
      "_view_name": "ProgressView",
      "bar_style": "info",
      "description": "",
      "description_tooltip": null,
      "layout": "IPY_MODEL_249cb20fc9d94c4ab6ad3f63665836f3",
      "max": 1,
      "min": 0,
      "orientation": "horizontal",
      "style": "IPY_MODEL_6fb490bb5a254d078ba22043a9d7ae71",
      "value": 1
     }
    },
    "a7e22a7410f448719cc6bbb039400d90": {
     "model_module": "@jupyter-widgets/base",
     "model_name": "LayoutModel",
     "state": {
      "_model_module": "@jupyter-widgets/base",
      "_model_module_version": "1.2.0",
      "_model_name": "LayoutModel",
      "_view_count": null,
      "_view_module": "@jupyter-widgets/base",
      "_view_module_version": "1.2.0",
      "_view_name": "LayoutView",
      "align_content": null,
      "align_items": null,
      "align_self": null,
      "border": null,
      "bottom": null,
      "display": null,
      "flex": null,
      "flex_flow": null,
      "grid_area": null,
      "grid_auto_columns": null,
      "grid_auto_flow": null,
      "grid_auto_rows": null,
      "grid_column": null,
      "grid_gap": null,
      "grid_row": null,
      "grid_template_areas": null,
      "grid_template_columns": null,
      "grid_template_rows": null,
      "height": null,
      "justify_content": null,
      "justify_items": null,
      "left": null,
      "margin": null,
      "max_height": null,
      "max_width": null,
      "min_height": null,
      "min_width": null,
      "object_fit": null,
      "object_position": null,
      "order": null,
      "overflow": null,
      "overflow_x": null,
      "overflow_y": null,
      "padding": null,
      "right": null,
      "top": null,
      "visibility": null,
      "width": null
     }
    },
    "aab9b858d1e041458707491988ab83da": {
     "model_module": "@jupyter-widgets/base",
     "model_name": "LayoutModel",
     "state": {
      "_model_module": "@jupyter-widgets/base",
      "_model_module_version": "1.2.0",
      "_model_name": "LayoutModel",
      "_view_count": null,
      "_view_module": "@jupyter-widgets/base",
      "_view_module_version": "1.2.0",
      "_view_name": "LayoutView",
      "align_content": null,
      "align_items": null,
      "align_self": null,
      "border": null,
      "bottom": null,
      "display": null,
      "flex": null,
      "flex_flow": null,
      "grid_area": null,
      "grid_auto_columns": null,
      "grid_auto_flow": null,
      "grid_auto_rows": null,
      "grid_column": null,
      "grid_gap": null,
      "grid_row": null,
      "grid_template_areas": null,
      "grid_template_columns": null,
      "grid_template_rows": null,
      "height": null,
      "justify_content": null,
      "justify_items": null,
      "left": null,
      "margin": null,
      "max_height": null,
      "max_width": null,
      "min_height": null,
      "min_width": null,
      "object_fit": null,
      "object_position": null,
      "order": null,
      "overflow": null,
      "overflow_x": null,
      "overflow_y": null,
      "padding": null,
      "right": null,
      "top": null,
      "visibility": null,
      "width": null
     }
    },
    "b1c329249fbe4d8081181ead712e039c": {
     "model_module": "@jupyter-widgets/controls",
     "model_name": "ProgressStyleModel",
     "state": {
      "_model_module": "@jupyter-widgets/controls",
      "_model_module_version": "1.5.0",
      "_model_name": "ProgressStyleModel",
      "_view_count": null,
      "_view_module": "@jupyter-widgets/base",
      "_view_module_version": "1.2.0",
      "_view_name": "StyleView",
      "bar_color": null,
      "description_width": "initial"
     }
    },
    "b715d457c2004bffb66aa85ecb81c4d4": {
     "model_module": "@jupyter-widgets/base",
     "model_name": "LayoutModel",
     "state": {
      "_model_module": "@jupyter-widgets/base",
      "_model_module_version": "1.2.0",
      "_model_name": "LayoutModel",
      "_view_count": null,
      "_view_module": "@jupyter-widgets/base",
      "_view_module_version": "1.2.0",
      "_view_name": "LayoutView",
      "align_content": null,
      "align_items": null,
      "align_self": null,
      "border": null,
      "bottom": null,
      "display": null,
      "flex": null,
      "flex_flow": null,
      "grid_area": null,
      "grid_auto_columns": null,
      "grid_auto_flow": null,
      "grid_auto_rows": null,
      "grid_column": null,
      "grid_gap": null,
      "grid_row": null,
      "grid_template_areas": null,
      "grid_template_columns": null,
      "grid_template_rows": null,
      "height": null,
      "justify_content": null,
      "justify_items": null,
      "left": null,
      "margin": null,
      "max_height": null,
      "max_width": null,
      "min_height": null,
      "min_width": null,
      "object_fit": null,
      "object_position": null,
      "order": null,
      "overflow": null,
      "overflow_x": null,
      "overflow_y": null,
      "padding": null,
      "right": null,
      "top": null,
      "visibility": null,
      "width": null
     }
    },
    "c03997c18ab1476d8614c926ebb00f33": {
     "model_module": "@jupyter-widgets/controls",
     "model_name": "FloatProgressModel",
     "state": {
      "_dom_classes": [],
      "_model_module": "@jupyter-widgets/controls",
      "_model_module_version": "1.5.0",
      "_model_name": "FloatProgressModel",
      "_view_count": null,
      "_view_module": "@jupyter-widgets/controls",
      "_view_module_version": "1.5.0",
      "_view_name": "ProgressView",
      "bar_style": "success",
      "description": "Dl Size...: 100%",
      "description_tooltip": null,
      "layout": "IPY_MODEL_07afc56393684da09f9b304396a5003c",
      "max": 1,
      "min": 0,
      "orientation": "horizontal",
      "style": "IPY_MODEL_c8639c96e2c748ad9110b721a0a020bf",
      "value": 1
     }
    },
    "c247b6d544be480d80568384c2150356": {
     "model_module": "@jupyter-widgets/controls",
     "model_name": "FloatProgressModel",
     "state": {
      "_dom_classes": [],
      "_model_module": "@jupyter-widgets/controls",
      "_model_module_version": "1.5.0",
      "_model_name": "FloatProgressModel",
      "_view_count": null,
      "_view_module": "@jupyter-widgets/controls",
      "_view_module_version": "1.5.0",
      "_view_name": "ProgressView",
      "bar_style": "danger",
      "description": " 98%",
      "description_tooltip": null,
      "layout": "IPY_MODEL_a7e22a7410f448719cc6bbb039400d90",
      "max": 23262,
      "min": 0,
      "orientation": "horizontal",
      "style": "IPY_MODEL_34431a092f2f404e9e6efe21e5d9f2d6",
      "value": 22691
     }
    },
    "c8639c96e2c748ad9110b721a0a020bf": {
     "model_module": "@jupyter-widgets/controls",
     "model_name": "ProgressStyleModel",
     "state": {
      "_model_module": "@jupyter-widgets/controls",
      "_model_module_version": "1.5.0",
      "_model_name": "ProgressStyleModel",
      "_view_count": null,
      "_view_module": "@jupyter-widgets/base",
      "_view_module_version": "1.2.0",
      "_view_name": "StyleView",
      "bar_color": null,
      "description_width": "initial"
     }
    },
    "e80bdd2e69684db1b6c4ce0fcf55a861": {
     "model_module": "@jupyter-widgets/base",
     "model_name": "LayoutModel",
     "state": {
      "_model_module": "@jupyter-widgets/base",
      "_model_module_version": "1.2.0",
      "_model_name": "LayoutModel",
      "_view_count": null,
      "_view_module": "@jupyter-widgets/base",
      "_view_module_version": "1.2.0",
      "_view_name": "LayoutView",
      "align_content": null,
      "align_items": null,
      "align_self": null,
      "border": null,
      "bottom": null,
      "display": null,
      "flex": null,
      "flex_flow": null,
      "grid_area": null,
      "grid_auto_columns": null,
      "grid_auto_flow": null,
      "grid_auto_rows": null,
      "grid_column": null,
      "grid_gap": null,
      "grid_row": null,
      "grid_template_areas": null,
      "grid_template_columns": null,
      "grid_template_rows": null,
      "height": null,
      "justify_content": null,
      "justify_items": null,
      "left": null,
      "margin": null,
      "max_height": null,
      "max_width": null,
      "min_height": null,
      "min_width": null,
      "object_fit": null,
      "object_position": null,
      "order": null,
      "overflow": null,
      "overflow_x": null,
      "overflow_y": null,
      "padding": null,
      "right": null,
      "top": null,
      "visibility": null,
      "width": null
     }
    },
    "ed81f0415e754770bdef4e87068f1c0b": {
     "model_module": "@jupyter-widgets/base",
     "model_name": "LayoutModel",
     "state": {
      "_model_module": "@jupyter-widgets/base",
      "_model_module_version": "1.2.0",
      "_model_name": "LayoutModel",
      "_view_count": null,
      "_view_module": "@jupyter-widgets/base",
      "_view_module_version": "1.2.0",
      "_view_name": "LayoutView",
      "align_content": null,
      "align_items": null,
      "align_self": null,
      "border": null,
      "bottom": null,
      "display": null,
      "flex": null,
      "flex_flow": null,
      "grid_area": null,
      "grid_auto_columns": null,
      "grid_auto_flow": null,
      "grid_auto_rows": null,
      "grid_column": null,
      "grid_gap": null,
      "grid_row": null,
      "grid_template_areas": null,
      "grid_template_columns": null,
      "grid_template_rows": null,
      "height": null,
      "justify_content": null,
      "justify_items": null,
      "left": null,
      "margin": null,
      "max_height": null,
      "max_width": null,
      "min_height": null,
      "min_width": null,
      "object_fit": null,
      "object_position": null,
      "order": null,
      "overflow": null,
      "overflow_x": null,
      "overflow_y": null,
      "padding": null,
      "right": null,
      "top": null,
      "visibility": null,
      "width": null
     }
    },
    "f76b3770b5324340a23db3b540006009": {
     "model_module": "@jupyter-widgets/controls",
     "model_name": "DescriptionStyleModel",
     "state": {
      "_model_module": "@jupyter-widgets/controls",
      "_model_module_version": "1.5.0",
      "_model_name": "DescriptionStyleModel",
      "_view_count": null,
      "_view_module": "@jupyter-widgets/base",
      "_view_module_version": "1.2.0",
      "_view_name": "StyleView",
      "description_width": ""
     }
    },
    "fca9fa1a1c764e08be76852760fc866c": {
     "model_module": "@jupyter-widgets/base",
     "model_name": "LayoutModel",
     "state": {
      "_model_module": "@jupyter-widgets/base",
      "_model_module_version": "1.2.0",
      "_model_name": "LayoutModel",
      "_view_count": null,
      "_view_module": "@jupyter-widgets/base",
      "_view_module_version": "1.2.0",
      "_view_name": "LayoutView",
      "align_content": null,
      "align_items": null,
      "align_self": null,
      "border": null,
      "bottom": null,
      "display": null,
      "flex": null,
      "flex_flow": null,
      "grid_area": null,
      "grid_auto_columns": null,
      "grid_auto_flow": null,
      "grid_auto_rows": null,
      "grid_column": null,
      "grid_gap": null,
      "grid_row": null,
      "grid_template_areas": null,
      "grid_template_columns": null,
      "grid_template_rows": null,
      "height": null,
      "justify_content": null,
      "justify_items": null,
      "left": null,
      "margin": null,
      "max_height": null,
      "max_width": null,
      "min_height": null,
      "min_width": null,
      "object_fit": null,
      "object_position": null,
      "order": null,
      "overflow": null,
      "overflow_x": null,
      "overflow_y": null,
      "padding": null,
      "right": null,
      "top": null,
      "visibility": null,
      "width": null
     }
    }
   }
  }
 },
 "nbformat": 4,
 "nbformat_minor": 1
}
