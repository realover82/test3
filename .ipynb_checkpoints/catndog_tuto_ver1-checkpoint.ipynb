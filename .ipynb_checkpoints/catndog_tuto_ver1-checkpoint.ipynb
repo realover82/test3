{
 "cells": [
  {
   "cell_type": "code",
   "execution_count": 2,
   "metadata": {},
   "outputs": [
    {
     "name": "stdout",
     "output_type": "stream",
     "text": [
      "Note: you may need to restart the kernel to use updated packages.\n"
     ]
    },
    {
     "name": "stderr",
     "output_type": "stream",
     "text": [
      "ERROR: Invalid requirement: '\\u2013upgrade'\n"
     ]
    }
   ],
   "source": [
    "pip install –upgrade google-api-python-client "
   ]
  },
  {
   "cell_type": "code",
   "execution_count": 1,
   "metadata": {
    "id": "PWqaYErVpcCA"
   },
   "outputs": [
    {
     "ename": "ModuleNotFoundError",
     "evalue": "No module named 'google'",
     "output_type": "error",
     "traceback": [
      "\u001b[1;31m---------------------------------------------------------------------------\u001b[0m",
      "\u001b[1;31mModuleNotFoundError\u001b[0m                       Traceback (most recent call last)",
      "\u001b[1;32m~\\AppData\\Local\\Temp/ipykernel_18084/1050275017.py\u001b[0m in \u001b[0;36m<module>\u001b[1;34m\u001b[0m\n\u001b[1;32m----> 1\u001b[1;33m \u001b[1;32mfrom\u001b[0m \u001b[0mgoogle\u001b[0m\u001b[1;33m.\u001b[0m\u001b[0mcolab\u001b[0m \u001b[1;32mimport\u001b[0m \u001b[0mdrive\u001b[0m\u001b[1;33m\u001b[0m\u001b[1;33m\u001b[0m\u001b[0m\n\u001b[0m\u001b[0;32m      2\u001b[0m \u001b[0mdrive\u001b[0m\u001b[1;33m.\u001b[0m\u001b[0mmount\u001b[0m\u001b[1;33m(\u001b[0m\u001b[1;34m'/content/gdrive'\u001b[0m\u001b[1;33m)\u001b[0m\u001b[1;33m\u001b[0m\u001b[1;33m\u001b[0m\u001b[0m\n",
      "\u001b[1;31mModuleNotFoundError\u001b[0m: No module named 'google'"
     ]
    }
   ],
   "source": [
    "from google.colab import drive\n",
    "drive.mount('/content/gdrive')"
   ]
  },
  {
   "cell_type": "code",
   "execution_count": null,
   "metadata": {
    "id": "wOypfo6krg-r"
   },
   "outputs": [],
   "source": [
    "cd .."
   ]
  },
  {
   "cell_type": "code",
   "execution_count": null,
   "metadata": {
    "id": "gSyal_5fs5YZ"
   },
   "outputs": [],
   "source": [
    "cd content/gdrive/MyDrive/deeplearning"
   ]
  },
  {
   "cell_type": "code",
   "execution_count": null,
   "metadata": {
    "id": "UTRTELwps5I1"
   },
   "outputs": [],
   "source": [
    "from keras.preprocessing.image import ImageDataGenerator"
   ]
  },
  {
   "cell_type": "code",
   "execution_count": null,
   "metadata": {
    "id": "1bdLqDfWs7tr"
   },
   "outputs": [],
   "source": [
    "from keras.layers import *\n",
    "from keras.models import Model\n",
    "\n",
    "def build_model():\n",
    "  x = Input(shape=(64, 64, 3))\n",
    "  out = x\n",
    "\n",
    "  out = Flatten()(out)\n",
    "  out = Dense(512, activation='relu')(out)\n",
    "  out = Dense(256, activation='relu')(out)\n",
    "  out = Dense(64, activation='relu')(out)\n",
    "  out = Dense(1, activation='sigmoid')(out)\n",
    "\n",
    "  model = Model(x, out)\n",
    "  return model"
   ]
  },
  {
   "cell_type": "code",
   "execution_count": null,
   "metadata": {
    "id": "y7CjsVIos-uz"
   },
   "outputs": [],
   "source": [
    "model = build_model()\n",
    "model.summary()"
   ]
  },
  {
   "cell_type": "code",
   "execution_count": null,
   "metadata": {
    "id": "pjawUWLGtAQz"
   },
   "outputs": [],
   "source": [
    "Generator = ImageDataGenerator()\n",
    "\n",
    "train_gen = Generator.flow_from_directory('catdog/train/train', target_size=(64,64),\n",
    "                                          batch_size=32,\n",
    "                                          class_mode='binary')"
   ]
  },
  {
   "cell_type": "code",
   "execution_count": null,
   "metadata": {
    "id": "FKsn8ceQub5t"
   },
   "outputs": [],
   "source": [
    "train_gen"
   ]
  },
  {
   "cell_type": "code",
   "execution_count": null,
   "metadata": {
    "id": "Saa2dbqpubtl"
   },
   "outputs": [],
   "source": [
    "next(train_gen)"
   ]
  },
  {
   "cell_type": "code",
   "execution_count": null,
   "metadata": {
    "id": "DoJROcFMtKge"
   },
   "outputs": [],
   "source": [
    "x_batch, y_batch = next(train_gen)\n",
    "print(x_batch.shape)\n",
    "print(y_batch.shape)"
   ]
  },
  {
   "cell_type": "code",
   "execution_count": null,
   "metadata": {
    "id": "Q0j69a31ymIu"
   },
   "outputs": [],
   "source": [
    "import matplotlib.pyplot as plt\n",
    "%matplotlib inline\n",
    "\n",
    "for i in range(len(x_batch)):\n",
    "  plt.imshow(x_batch[i].astype('int32'))\n",
    "  plt.title(y_batch[i])"
   ]
  },
  {
   "cell_type": "code",
   "execution_count": null,
   "metadata": {
    "id": "7a9BzSRctMUv"
   },
   "outputs": [],
   "source": [
    "import matplotlib.pyplot as plt\n",
    "%matplotlib inline\n",
    "\n",
    "plt.imshow(x_batch[0].astype('int32'))\n",
    "plt.title(y_batch[0])"
   ]
  },
  {
   "cell_type": "code",
   "execution_count": null,
   "metadata": {
    "id": "_WsTopY2uhe0"
   },
   "outputs": [],
   "source": [
    "import matplotlib.pyplot as plt\n",
    "%matplotlib inline\n",
    "\n",
    "for i in range(len(x_batch)):\n",
    "  plt.imshow(x_batch[i].astype('int32'))\n",
    "  plt.title(y_batch[i])"
   ]
  },
  {
   "cell_type": "code",
   "execution_count": null,
   "metadata": {
    "id": "NrGMn33Nuylb"
   },
   "outputs": [],
   "source": [
    "import matplotlib.pyplot as plt\n",
    "%matplotlib inline\n",
    "\n",
    "for i in range(len(x_batch)):\n",
    "  plt.imshow(x_batch[i])\n",
    "  plt.title(y_batch[i])"
   ]
  },
  {
   "cell_type": "code",
   "execution_count": null,
   "metadata": {
    "id": "O3iKKGBky3_A"
   },
   "outputs": [],
   "source": [
    "x_batch.max()"
   ]
  },
  {
   "cell_type": "code",
   "execution_count": null,
   "metadata": {
    "id": "Avt56SR-09_U"
   },
   "outputs": [],
   "source": [
    "Generator = ImageDataGenerator(rescale=1/255.)\n",
    "\n",
    "train_gen = Generator.flow_from_directory('catdog/train/train', target_size=(64,64),\n",
    "                                          batch_size=32,\n",
    "                                          class_mode='binary')"
   ]
  },
  {
   "cell_type": "code",
   "execution_count": null,
   "metadata": {
    "id": "PvtqA8TZ0-08"
   },
   "outputs": [],
   "source": [
    "x_batch, y_batch = next(train_gen)\n",
    "print(x_batch.shape)\n",
    "print(y_batch.shape)"
   ]
  },
  {
   "cell_type": "code",
   "execution_count": null,
   "metadata": {
    "id": "EeW4wxoAu5sh"
   },
   "outputs": [],
   "source": [
    "from keras.layers import *\n",
    "from keras.models import Model\n",
    "\n",
    "def build_model():\n",
    "  x = Input(shape=(64, 64, 3))\n",
    "  out = x\n",
    "\n",
    "  out = Flatten()(out)\n",
    "  out = Dense(512, activation='relu')(out)\n",
    "  out = Dense(256, activation='relu')(out)\n",
    "  out = Dense(64, activation='relu')(out)\n",
    "  out = Dense(1, activation='sigmoid')(out)\n",
    "\n",
    "  model = Model(x, out)\n",
    "  return model"
   ]
  },
  {
   "cell_type": "code",
   "execution_count": null,
   "metadata": {
    "id": "Ne3iWhcQu8Bz"
   },
   "outputs": [],
   "source": [
    "model = build_model()\n",
    "model.summary()"
   ]
  },
  {
   "cell_type": "markdown",
   "metadata": {
    "id": "x5pnrc0h1Wcb"
   },
   "source": [
    "학습"
   ]
  },
  {
   "cell_type": "code",
   "execution_count": null,
   "metadata": {
    "id": "xqdNYBW_tFjy"
   },
   "outputs": [],
   "source": [
    "model.compile(optimizer='sgd', loss='binary_crossentropy', metrics=['binary_accuracy'])\n",
    "history = model.fit(train_gen, epochs=2, steps_per_epoch=len(train_gen))"
   ]
  },
  {
   "cell_type": "code",
   "execution_count": null,
   "metadata": {
    "id": "seX4g-0ZtF-s"
   },
   "outputs": [],
   "source": [
    "test_gen = Generator.flow_from_directory ('catdog', target_size=(64, 64),\n",
    "                                         batch_size=32, classes=['test3'])"
   ]
  },
  {
   "cell_type": "code",
   "execution_count": null,
   "metadata": {
    "id": "V75iX2L5tJFk"
   },
   "outputs": [],
   "source": [
    "pred = model.predict(test_gen)\n",
    "pred.shape"
   ]
  },
  {
   "cell_type": "code",
   "execution_count": null,
   "metadata": {
    "id": "JqoLfzAZtP5Y"
   },
   "outputs": [],
   "source": [
    "x_test, y_test = next(test_gen)\n",
    "test_gen\n",
    "\n",
    "for i in range(len(x_test)):\n",
    "   plt.imshow(x_test[i])\n",
    "   plt.show()"
   ]
  },
  {
   "cell_type": "code",
   "execution_count": null,
   "metadata": {
    "id": "-5PIU3aftQVB"
   },
   "outputs": [],
   "source": [
    "pred = model.predict(x_test[:3])\n",
    "\n",
    "for i in range(3):\n",
    "   plt.imshow(x_test[i])\n",
    "   plt.title(pred[i])\n",
    "   plt.show()"
   ]
  },
  {
   "cell_type": "code",
   "execution_count": null,
   "metadata": {
    "id": "hKxzmaR0tUV7"
   },
   "outputs": [],
   "source": [
    "losses = history.history['loss']\n",
    "accs = history.history['binary_accuracy']\n",
    "\n",
    "plt.plot(losses, label='loss')\n",
    "plt.plot(accs, label='acc')\n",
    "plt.legend()\n",
    "plt.show()"
   ]
  }
 ],
 "metadata": {
  "accelerator": "GPU",
  "colab": {
   "collapsed_sections": [],
   "history_visible": true,
   "name": "catndog_tuto_ver1.ipynb",
   "provenance": []
  },
  "kernelspec": {
   "display_name": "Python 3 (ipykernel)",
   "language": "python",
   "name": "python3"
  },
  "language_info": {
   "codemirror_mode": {
    "name": "ipython",
    "version": 3
   },
   "file_extension": ".py",
   "mimetype": "text/x-python",
   "name": "python",
   "nbconvert_exporter": "python",
   "pygments_lexer": "ipython3",
   "version": "3.9.7"
  }
 },
 "nbformat": 4,
 "nbformat_minor": 1
}
