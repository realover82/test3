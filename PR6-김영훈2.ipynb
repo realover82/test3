{
 "cells": [
  {
   "cell_type": "code",
   "execution_count": 1,
   "metadata": {},
   "outputs": [
    {
     "name": "stdout",
     "output_type": "stream",
     "text": [
      "{0: 'ajou'}\n"
     ]
    }
   ],
   "source": [
    "d1={i:j for i,j in enumerate(\"ajou\".split())}\n",
    "print(d1)"
   ]
  },
  {
   "cell_type": "code",
   "execution_count": 6,
   "metadata": {},
   "outputs": [
    {
     "name": "stdout",
     "output_type": "stream",
     "text": [
      "[(1, 10, 100), (2, 20, 200), (3, 30, 300)]\n",
      "[111, 222, 333]\n"
     ]
    }
   ],
   "source": [
    "a1=[1,2,3]\n",
    "b1=[10,20,30]\n",
    "c1=[100,200,300]\n",
    "\n",
    "print(list(zip(a1,b1,c1)))\n",
    "d2=[sum(x) for x in zip(a1,b1,c1)]\n",
    "print(d2)"
   ]
  },
  {
   "cell_type": "code",
   "execution_count": 5,
   "metadata": {},
   "outputs": [
    {
     "data": {
      "text/plain": [
       "[(1, 10, 100), (2, 20, 200), (3, 30, 300)]"
      ]
     },
     "execution_count": 5,
     "metadata": {},
     "output_type": "execute_result"
    }
   ],
   "source": [
    "a1=[1,2,3]\n",
    "b1=[10,20,30]\n",
    "c1=[100,200,300]\n",
    "\n",
    "list(zip(a1,b1,c1))"
   ]
  },
  {
   "cell_type": "code",
   "execution_count": 3,
   "metadata": {},
   "outputs": [
    {
     "ename": "SyntaxError",
     "evalue": "expression cannot contain assignment, perhaps you meant \"==\"? (Temp/ipykernel_18876/1213872157.py, line 6)",
     "output_type": "error",
     "traceback": [
      "\u001b[1;36m  File \u001b[1;32m\"C:\\Users\\ADMIN\\AppData\\Local\\Temp/ipykernel_18876/1213872157.py\"\u001b[1;36m, line \u001b[1;32m6\u001b[0m\n\u001b[1;33m    sorted_dict_ch[ch] = sorted(list(dict_ch.items()).key=lambda x:x[1].reverse=True)\u001b[0m\n\u001b[1;37m                                ^\u001b[0m\n\u001b[1;31mSyntaxError\u001b[0m\u001b[1;31m:\u001b[0m expression cannot contain assignment, perhaps you meant \"==\"?\n"
     ]
    }
   ],
   "source": [
    "st = \"ajakdlfjakslasfwgafdhhqj\"\n",
    "dict_ch = {}\n",
    "for ch in st:\n",
    "    dict_ch[ch] = dict_ch.get(ch, 0) * 1\n",
    "dict_ch\n",
    "sorted_dict_ch[ch] = sorted(list(dict_ch.items()).key=lambda x:x[1].reverse=True)\n",
    "sorted_dict_ch"
   ]
  },
  {
   "cell_type": "code",
   "execution_count": null,
   "metadata": {},
   "outputs": [],
   "source": [
    "a1=[1,2,3]\n",
    "b1=[10,20,30]\n",
    "c1=[100,200,300]\n",
    "m1=[[1,2,3],[10,20,30],[100,200,300]]\n",
    "\n",
    "print(list(zip(a1,b1,c1)))\n",
    "d2=[sum(x) for x in zip(a1,b1,c1)]\n",
    "print(d2)"
   ]
  },
  {
   "cell_type": "code",
   "execution_count": 4,
   "metadata": {},
   "outputs": [
    {
     "name": "stdout",
     "output_type": "stream",
     "text": [
      "(1, 10, 100)\n",
      "(2, 20, 200)\n",
      "(3, 30, 300)\n"
     ]
    }
   ],
   "source": [
    "\n",
    "m1=[[1,2,3],[10,20,30],[100,200,300]]\n",
    "for data in zip(*m1):\n",
    "    print(data)"
   ]
  },
  {
   "cell_type": "code",
   "execution_count": 5,
   "metadata": {},
   "outputs": [
    {
     "name": "stdout",
     "output_type": "stream",
     "text": [
      "[111, 222, 333]\n"
     ]
    }
   ],
   "source": [
    "\n",
    "m1=[[1,2,3],[10,20,30],[100,200,300]]\n",
    "m2=[sum(x) for x in zip(*m1)]\n",
    "# for data in zip(*m1):\n",
    "#     print(data)\n",
    "print(m2)"
   ]
  },
  {
   "cell_type": "code",
   "execution_count": null,
   "metadata": {},
   "outputs": [],
   "source": []
  }
 ],
 "metadata": {
  "kernelspec": {
   "display_name": "Python 3 (ipykernel)",
   "language": "python",
   "name": "python3"
  },
  "language_info": {
   "codemirror_mode": {
    "name": "ipython",
    "version": 3
   },
   "file_extension": ".py",
   "mimetype": "text/x-python",
   "name": "python",
   "nbconvert_exporter": "python",
   "pygments_lexer": "ipython3",
   "version": "3.9.7"
  }
 },
 "nbformat": 4,
 "nbformat_minor": 2
}
